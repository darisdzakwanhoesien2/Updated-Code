{
 "cells": [
  {
   "cell_type": "code",
   "execution_count": null,
   "metadata": {},
   "outputs": [],
   "source": [
    "# //@version=4\n",
    "strategy(\"FOREXCAKEMIX- DIDI INDEX- AUTOMATIC INDICATOR\", overlay=true, default_qty_type=strategy.percent_of_equity, default_qty_value=10)\n",
    "\n",
    "// \n",
    "//  _____                                          __                  .__        \n",
    "//_/ ____\\___________   ____ ___  ___ ____ _____  |  | __ ____   _____ |__|__  ___\n",
    "//\\   __\\/  _ \\_  __ \\_/ __ \\\\  \\/  // ___\\\\__  \\ |  |/ // __ \\ /     \\|  \\  \\/  /\n",
    "// |  | (  <_> )  | \\/\\  ___/ >    <\\  \\___ / __ \\|    <\\  ___/|  Y Y  \\  |>    < \n",
    "// |__|  \\____/|__|    \\___  >__/\\_ \\\\___  >____  /__|_ \\\\___  >__|_|  /__/__/\\_ \\\n",
    "// \n",
    "\n",
    "// FOREXCAKEMIX AUTOMATIC INDICATOR- DIDI INDEX- Confirmation Indicator\n",
    "\n",
    "// INGREDIENTS :\n",
    "// DIDI INDEX- Confirmation Indicator\n",
    "// \n",
    "//\n",
    "// Enjoy, \n",
    "// Peace & Love,\n",
    "// FOREXCAKEMIX\n",
    "\n",
    "// DIDI- Confirmation Indicator"
   ]
  },
  {
   "cell_type": "code",
   "execution_count": 8,
   "metadata": {},
   "outputs": [
    {
     "ename": "SyntaxError",
     "evalue": "invalid syntax (<ipython-input-8-5a7aac370f52>, line 27)",
     "output_type": "error",
     "traceback": [
      "\u001b[1;36m  File \u001b[1;32m\"<ipython-input-8-5a7aac370f52>\"\u001b[1;36m, line \u001b[1;32m27\u001b[0m\n\u001b[1;33m    long_stop_level = longCondition ? close - ATR * 1.5 : long_stop_level[1]\u001b[0m\n\u001b[1;37m                                    ^\u001b[0m\n\u001b[1;31mSyntaxError\u001b[0m\u001b[1;31m:\u001b[0m invalid syntax\n"
     ]
    }
   ],
   "source": [
    "short = 4, mid = 15, long = 30\n",
    "DidiLonga = sma(close, long) - sma(close, mid)\n",
    "DidiCurta = sma(close, short) - sma(close, mid)\n",
    "\n",
    "\n",
    "# C1 Entry Conditions\n",
    "\n",
    "c1up= crossover(DidiCurta,DidiLonga)\n",
    "c1down= crossunder(DidiCurta,DidiLonga)\n",
    "\n",
    "\n",
    "#ATR \n",
    "ATR = atr(14)\n",
    "\n",
    "longCondition = c1up\n",
    "if longCondition:\n",
    "    strategy.entry(\"My Long Entry Id\", strategy.long)\n",
    "\n",
    "\n",
    "shortCondition = c1down \n",
    "if shortCondition:\n",
    "\n",
    "    strategy.entry(\"My Short Entry Id\", strategy.short)\n",
    "\n",
    "long_stop_level = float(na)\n",
    "long_profit_level = float(na)\n",
    "long_stop_level = longCondition ? close - ATR * 1.5 : long_stop_level[1]\n",
    "long_profit_level = longCondition ? close + ATR : long_profit_level[1]\n",
    "\n",
    "short_stop_level = float(na)\n",
    "short_profit_level = float(na)\n",
    "short_stop_level := shortCondition ? close + ATR * 1.5 : short_stop_level[1]\n",
    "short_profit_level := shortCondition ? close - ATR : short_profit_level[1]\n",
    "\n",
    "strategy.exit(\"TP/SL\", \"My Long Entry Id\", stop=long_stop_level, limit=long_profit_level)\n",
    "strategy.exit(\"TP/SL\", \"My Short Entry Id\", stop=short_stop_level, limit=short_profit_level)\n",
    "\n",
    "plot(strategy.position_size <= 0 ? na : long_stop_level, color=color.red, style=plot.style_linebr, linewidth=2)\n",
    "plot(strategy.position_size <= 0 ? na : long_profit_level, color=color.green, style=plot.style_linebr, linewidth=2)\n",
    "plot(strategy.position_size >= 0 ? na : short_stop_level, color=color.red, style=plot.style_linebr, linewidth=2)\n",
    "plot(strategy.position_size >= 0 ? na : short_profit_level, color=color.green, style=plot.style_linebr, linewidth=2)\n"
   ]
  },
  {
   "cell_type": "code",
   "execution_count": null,
   "metadata": {},
   "outputs": [],
   "source": []
  }
 ],
 "metadata": {
  "kernelspec": {
   "display_name": "Python 3",
   "language": "python",
   "name": "python3"
  }
 },
 "nbformat": 4,
 "nbformat_minor": 2
}
