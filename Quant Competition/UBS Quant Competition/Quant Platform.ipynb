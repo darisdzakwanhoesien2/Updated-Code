{
 "cells": [
  {
   "cell_type": "markdown",
   "metadata": {},
   "source": [
    "### Discussion:\n",
    "So most of the scripts there are \"trend confirmation indicators\". Basically we want to ride with the trend, not against it. \"confirmation\" is given when a \"condition\" is met. For eg, it could be the moment two lines cross, one-line crosses a horizontal\"0\" line\n",
    "\n",
    "Composition of Algorithm\n",
    "1. baseline\n",
    "2. confirmation indicator x2\n",
    "3. volume/volatility indicator\n",
    "4. exit indicator\n",
    "\n",
    "### References\n",
    "1. https://bitcointalk.org/index.php?topic=5149174.0\n",
    "#### Content\n",
    "1. Slow system that doesn't promise huge returns, but a consistent realistic profit without taking huge risk, Intro to Price Action\n",
    "2. Closest you can get to an objective system that doesn't rely on arbitrary trendlines, or arbitrary resistance and support levels\n",
    "\n",
    "1. how you trade\n",
    "2. how much you trade\n",
    "3. when you trade\n",
    "4. when you exit your trades"
   ]
  },
  {
   "cell_type": "code",
   "execution_count": null,
   "metadata": {},
   "outputs": [],
   "source": []
  }
 ],
 "metadata": {
  "kernelspec": {
   "display_name": "Python 3",
   "language": "python",
   "name": "python3"
  },
  "language_info": {
   "codemirror_mode": {
    "name": "ipython",
    "version": 3
   },
   "file_extension": ".py",
   "mimetype": "text/x-python",
   "name": "python",
   "nbconvert_exporter": "python",
   "pygments_lexer": "ipython3",
   "version": "3.7.0"
  }
 },
 "nbformat": 4,
 "nbformat_minor": 2
}
