{
 "cells": [
  {
   "cell_type": "code",
   "execution_count": 1,
   "metadata": {},
   "outputs": [],
   "source": [
    "import numpy as np\n",
    "import math\n",
    "\n",
    "expected_constant = 1.38064852 * 10**-23"
   ]
  },
  {
   "cell_type": "markdown",
   "metadata": {},
   "source": [
    "# Resource : \n",
    "1. https://en.wikipedia.org/wiki/Boltzmann_constant\n",
    "2. https://en.wikipedia.org/wiki/Avogadro_constant\n",
    "3. https://en.wikipedia.org/wiki/Gas_constant\n",
    "\n",
    "# Calculation : Na = 2RTt/(3πviscocityr〈r^2〉)\n",
    "1. Na = 2*R*T*t/(3*π*viscocity*radius*(r**2))\n",
    "2. b = (r**2) = 2*R*T*t/(3*π*viscocity*radius*Na)\n"
   ]
  },
  {
   "cell_type": "code",
   "execution_count": 2,
   "metadata": {},
   "outputs": [
    {
     "name": "stdout",
     "output_type": "stream",
     "text": [
      "1.3671988665292458e-06\n"
     ]
    }
   ],
   "source": [
    "def expected_MSD(viscocity):\n",
    "  n = 8.9 * 10**-4\n",
    "  radius = 1.05*10**-6/2\n",
    "  R = 8.31446\n",
    "  T = 298\n",
    "  Na = 6.02 * 10**23\n",
    "\n",
    "  return math.sqrt(2*R*T/(3*math.pi*viscocity*radius*Na))\n",
    "\n",
    "print(expected_MSD(8.9*10**(-4)))\n",
    "\n",
    "def Avogadro_constant(MSD):\n",
    "  R = 8.31446\n",
    "  T = 298\n",
    "  \n",
    "  viscocity = 8.9*10**(-4)\n",
    "  radius = 1.05*10**-6/2\n",
    "\n",
    "  return 2*R*T/(3*math.pi*viscocity*radius*MSD)"
   ]
  },
  {
   "cell_type": "code",
   "execution_count": 3,
   "metadata": {},
   "outputs": [],
   "source": [
    "experiment = Avogadro_constant((0.3562*6*10**-6)**2)\n",
    "error = experiment\n",
    "error_ratio = error/(6.02 * 10**23)\n",
    "error_perc = error_ratio*100\n"
   ]
  },
  {
   "cell_type": "code",
   "execution_count": 4,
   "metadata": {},
   "outputs": [
    {
     "name": "stdout",
     "output_type": "stream",
     "text": [
      "2.463596279558323e+23\n",
      "Error\n",
      "2.463596279558323e+23\n",
      "0.40923526238510355\n",
      "40.923526238510355\n"
     ]
    }
   ],
   "source": [
    "print(experiment)\n",
    "print(\"Error\")\n",
    "print(error)\n",
    "print(error_ratio)\n",
    "print(error_perc)"
   ]
  },
  {
   "cell_type": "code",
   "execution_count": 5,
   "metadata": {},
   "outputs": [],
   "source": [
    "def error_value(avogadro):\n",
    "  return \"Your error value is \" + str(avogadro*100/(6.02214*10**23)) + \" percent.\"\n",
    "\n",
    "def avogadro_number(list_input,number):\n",
    "  #particle number that need to be analyze\n",
    "  particle = number*(number-1)/2\n",
    "  #distance_square_value\n",
    "  distance = np.sum(np.array(list_input))\n",
    "  distance_square = distance/particle\n",
    "  \n",
    "  #constant needed\n",
    "  R = 8.31446\n",
    "  T = 298\n",
    "  n = 8.9 * 10**-4\n",
    "  radius = 1.05*10**-6/2\n",
    "  mass_density = 1800\n",
    "  \n",
    "  final_formula = 2*T*R/(3*math.pi*n*radius)\n",
    "  return final_formula\n",
    "\n",
    "def validation():\n",
    "  n = 8.9 * 10**-4\n",
    "  radius = 1.05*10**-6/2\n",
    "\n",
    "  return \"As the value of the ratio is \" + str(round(9*n/(2*radius**2),3)) + \" and it's too big compared to 1. So the value is valid\"\n"
   ]
  },
  {
   "cell_type": "code",
   "execution_count": 6,
   "metadata": {},
   "outputs": [
    {
     "name": "stdout",
     "output_type": "stream",
     "text": [
      "As the value of the ratio is 14530612244.898 and it's too big compared to 1. So the value is valid\n"
     ]
    }
   ],
   "source": [
    "#Output\n",
    "print(validation())\n",
    "#print(avogadro_number(list_input,number))"
   ]
  }
 ],
 "metadata": {
  "kernelspec": {
   "display_name": "Python 3",
   "language": "python",
   "name": "python3"
  },
  "language_info": {
   "codemirror_mode": {
    "name": "ipython",
    "version": 3
   },
   "file_extension": ".py",
   "mimetype": "text/x-python",
   "name": "python",
   "nbconvert_exporter": "python",
   "pygments_lexer": "ipython3",
   "version": "3.7.3"
  }
 },
 "nbformat": 4,
 "nbformat_minor": 2
}
