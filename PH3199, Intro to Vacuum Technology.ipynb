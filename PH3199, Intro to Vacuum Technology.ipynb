{
 "cells": [
  {
   "cell_type": "code",
   "execution_count": 18,
   "metadata": {},
   "outputs": [],
   "source": [
    "#Import Needed Built-In Library\n",
    "import math\n",
    "import pandas as pd\n",
    "import numpy as np\n",
    "import matplotlib.pyplot as plt \n",
    "from sklearn.linear_model import LinearRegression"
   ]
  },
  {
   "cell_type": "code",
   "execution_count": 19,
   "metadata": {},
   "outputs": [
    {
     "data": {
      "text/html": [
       "<div>\n",
       "<style scoped>\n",
       "    .dataframe tbody tr th:only-of-type {\n",
       "        vertical-align: middle;\n",
       "    }\n",
       "\n",
       "    .dataframe tbody tr th {\n",
       "        vertical-align: top;\n",
       "    }\n",
       "\n",
       "    .dataframe thead th {\n",
       "        text-align: right;\n",
       "    }\n",
       "</style>\n",
       "<table border=\"1\" class=\"dataframe\">\n",
       "  <thead>\n",
       "    <tr style=\"text-align: right;\">\n",
       "      <th></th>\n",
       "      <th>Pressure (Pa)</th>\n",
       "      <th>Dzakwan</th>\n",
       "      <th>Yunming</th>\n",
       "      <th>Katelyn</th>\n",
       "      <th>Marissa</th>\n",
       "      <th>Shuhui_1</th>\n",
       "      <th>Shuhui_2</th>\n",
       "      <th>Mean</th>\n",
       "      <th>Nat. Log. X</th>\n",
       "      <th>Nat. Log. Y</th>\n",
       "    </tr>\n",
       "  </thead>\n",
       "  <tbody>\n",
       "    <tr>\n",
       "      <th>0</th>\n",
       "      <td>0.0008</td>\n",
       "      <td>67.0</td>\n",
       "      <td>54.0</td>\n",
       "      <td>63.0</td>\n",
       "      <td>15.5</td>\n",
       "      <td>33.5</td>\n",
       "      <td>44.0</td>\n",
       "      <td>39.57</td>\n",
       "      <td>3.68</td>\n",
       "      <td>-7.13</td>\n",
       "    </tr>\n",
       "    <tr>\n",
       "      <th>1</th>\n",
       "      <td>0.0006</td>\n",
       "      <td>116.0</td>\n",
       "      <td>107.5</td>\n",
       "      <td>101.5</td>\n",
       "      <td>51.0</td>\n",
       "      <td>60.0</td>\n",
       "      <td>64.0</td>\n",
       "      <td>71.43</td>\n",
       "      <td>4.27</td>\n",
       "      <td>-7.42</td>\n",
       "    </tr>\n",
       "    <tr>\n",
       "      <th>2</th>\n",
       "      <td>0.0004</td>\n",
       "      <td>228.5</td>\n",
       "      <td>200.1</td>\n",
       "      <td>145.5</td>\n",
       "      <td>122.0</td>\n",
       "      <td>129.5</td>\n",
       "      <td>137.0</td>\n",
       "      <td>137.51</td>\n",
       "      <td>4.92</td>\n",
       "      <td>-7.82</td>\n",
       "    </tr>\n",
       "    <tr>\n",
       "      <th>3</th>\n",
       "      <td>0.0002</td>\n",
       "      <td>409.5</td>\n",
       "      <td>358.5</td>\n",
       "      <td>261.0</td>\n",
       "      <td>241.0</td>\n",
       "      <td>235.0</td>\n",
       "      <td>261.5</td>\n",
       "      <td>252.36</td>\n",
       "      <td>5.53</td>\n",
       "      <td>-8.52</td>\n",
       "    </tr>\n",
       "    <tr>\n",
       "      <th>4</th>\n",
       "      <td>0.0001</td>\n",
       "      <td>1103.0</td>\n",
       "      <td>918.5</td>\n",
       "      <td>695.0</td>\n",
       "      <td>654.5</td>\n",
       "      <td>627.0</td>\n",
       "      <td>679.5</td>\n",
       "      <td>668.21</td>\n",
       "      <td>6.50</td>\n",
       "      <td>-9.21</td>\n",
       "    </tr>\n",
       "  </tbody>\n",
       "</table>\n",
       "</div>"
      ],
      "text/plain": [
       "   Pressure (Pa)  Dzakwan  Yunming  Katelyn  Marissa  Shuhui_1  Shuhui_2  \\\n",
       "0         0.0008     67.0     54.0     63.0     15.5      33.5      44.0   \n",
       "1         0.0006    116.0    107.5    101.5     51.0      60.0      64.0   \n",
       "2         0.0004    228.5    200.1    145.5    122.0     129.5     137.0   \n",
       "3         0.0002    409.5    358.5    261.0    241.0     235.0     261.5   \n",
       "4         0.0001   1103.0    918.5    695.0    654.5     627.0     679.5   \n",
       "\n",
       "     Mean  Nat. Log. X  Nat. Log. Y  \n",
       "0   39.57         3.68        -7.13  \n",
       "1   71.43         4.27        -7.42  \n",
       "2  137.51         4.92        -7.82  \n",
       "3  252.36         5.53        -8.52  \n",
       "4  668.21         6.50        -9.21  "
      ]
     },
     "execution_count": 19,
     "metadata": {},
     "output_type": "execute_result"
    }
   ],
   "source": [
    "#Key in the Baseline Value\n",
    "baseline_11, baseline_12, baseline_13, baseline_14, baseline_15, baseline_16 = 137, 100.5, 91.5, 120, 117.5, 153.5\n",
    "#Initiate the Dataframe for Analysis\n",
    "data = pd.DataFrame() \n",
    "#Dataset Trial\n",
    "data[\"Pressure (Pa)\"] = [8*10**-4, 6*10**-4, 4*10**-4, 2*10**-4, 1*10**-4]\n",
    "data[\"Dzakwan\"] = [204, 253, 365.5, 546.5, 1240] \n",
    "data[\"Yunming\"] = [154.5, 208, 300.6, 459, 1019]\n",
    "data[\"Katelyn\"] = [154.5, 193, 237, 352.5, 786.5]\n",
    "data[\"Marissa\"] = [135.5, 171, 242, 361, 774.5]\n",
    "data[\"Shuhui_1\"] = [151, 177.5, 247, 352.5, 744.5]\n",
    "data[\"Shuhui_2\"] = [197.5, 217.5, 290.5, 415, 833]\n",
    "#Wrangling\n",
    "data[\"Dzakwan\"] = (data[\"Dzakwan\"] - baseline_11)\n",
    "data[\"Yunming\"] = (data[\"Yunming\"] - baseline_12)\n",
    "data[\"Katelyn\"] = (data[\"Katelyn\"] - baseline_13)\n",
    "data[\"Marissa\"] = (data[\"Marissa\"] - baseline_14)\n",
    "data[\"Shuhui_1\"] = (data[\"Shuhui_1\"] - baseline_15)\n",
    "data[\"Shuhui_2\"] = (data[\"Shuhui_2\"] - baseline_16)\n",
    "\n",
    "#Data Analysis (Mean, Error, Standard Deviation, etc)\n",
    "mean = data.mean(axis=1)\n",
    "data[\"Mean\"] = mean.round(2)\n",
    "data[\"Nat. Log. X\"] = np.log(data[\"Mean\"]).round(2)\n",
    "data[\"Nat. Log. Y\"] = np.log(data[\"Pressure (Pa)\"]).round(2)\n",
    "#Print the Result\n",
    "data"
   ]
  },
  {
   "cell_type": "code",
   "execution_count": 20,
   "metadata": {},
   "outputs": [
    {
     "data": {
      "text/plain": [
       "<matplotlib.axes._subplots.AxesSubplot at 0x1ce8931c518>"
      ]
     },
     "execution_count": 20,
     "metadata": {},
     "output_type": "execute_result"
    },
    {
     "data": {
      "image/png": "[encoded data removed]",
      "text/plain": [
       "<Figure size 432x288 with 1 Axes>"
      ]
     },
     "metadata": {
      "needs_background": "light"
     },
     "output_type": "display_data"
    }
   ],
   "source": [
    "graph1 = data.plot(x ='Mean', y='Pressure (Pa)', kind = 'scatter')\n",
    "graph1.set_xlabel('Time (sec)')\n",
    "graph1.set_ylabel('Pressure (Pa)')\n",
    "graph1.set_ylim(0, 0.0009)\n",
    "graph1"
   ]
  },
  {
   "cell_type": "code",
   "execution_count": 21,
   "metadata": {},
   "outputs": [
    {
     "data": {
      "image/png": "[encoded data removed]",
      "text/plain": [
       "<Figure size 432x288 with 1 Axes>"
      ]
     },
     "metadata": {
      "needs_background": "light"
     },
     "output_type": "display_data"
    }
   ],
   "source": [
    "linear_regressor = LinearRegression()\n",
    "\n",
    "x = data['Mean'].values.reshape(-1,1)\n",
    "y = data['Pressure (Pa)'].values.reshape(-1,1)\n",
    "\n",
    "linear_regressor.fit(x, y)\n",
    "Y_pred = linear_regressor.predict(x)\n",
    "plt.scatter(x, y)\n",
    "plt.plot(x, Y_pred, color='red')\n",
    "plt.axis([0,700,0, 0.0009])\n",
    "plt.show()"
   ]
  },
  {
   "cell_type": "code",
   "execution_count": 22,
   "metadata": {},
   "outputs": [
    {
     "data": {
      "text/plain": [
       "<matplotlib.axes._subplots.AxesSubplot at 0x1ce894863c8>"
      ]
     },
     "execution_count": 22,
     "metadata": {},
     "output_type": "execute_result"
    },
    {
     "data": {
      "image/png": "[encoded data removed]",
      "text/plain": [
       "<Figure size 432x288 with 1 Axes>"
      ]
     },
     "metadata": {
      "needs_background": "light"
     },
     "output_type": "display_data"
    }
   ],
   "source": [
    "graph2 = data.plot(x=\"Mean\", y=\"Nat. Log. Y\", kind = 'scatter')\n",
    "graph2.set_xlabel('Time (Min)')\n",
    "graph2.set_ylabel('Pressure (Pa)')\n",
    "#graph2.set_ylim(0, 0.0009)\n",
    "graph2"
   ]
  },
  {
   "cell_type": "code",
   "execution_count": 23,
   "metadata": {},
   "outputs": [
    {
     "data": {
      "image/png": "[encoded data removed]",
      "text/plain": [
       "<Figure size 432x288 with 1 Axes>"
      ]
     },
     "metadata": {
      "needs_background": "light"
     },
     "output_type": "display_data"
    }
   ],
   "source": [
    "\n",
    "x = data['Nat. Log. X'].values.reshape(-1,1)\n",
    "y = data['Nat. Log. Y'].values.reshape(-1,1)\n",
    "\n",
    "linear_regressor = LinearRegression()\n",
    "linear_regressor.fit(x, y)\n",
    "Y_pred = linear_regressor.predict(x)\n",
    "plt.scatter(x, y)\n",
    "plt.plot(x, Y_pred, color='red')\n",
    "plt.errorbar(x,y,yerr=0.1) #mew=4,mfc='blue',mec='green',ms=20)\n",
    "plt.show()"
   ]
  },
  {
   "cell_type": "code",
   "execution_count": 24,
   "metadata": {},
   "outputs": [
    {
     "name": "stdout",
     "output_type": "stream",
     "text": [
      "The interception value is [-4.21165509]\n",
      "The gradient value is [[-0.76472789]]\n"
     ]
    }
   ],
   "source": [
    "print(\"The interception value is \" + str(linear_regressor.intercept_))\n",
    "print(\"The gradient value is \" + str(linear_regressor.coef_))"
   ]
  },
  {
   "cell_type": "markdown",
   "metadata": {},
   "source": [
    "Conclusion of Dataset 1 Flows:\n",
    "Understanding the Dataset and Get the Flows\n",
    "Data Plotting (Understand the Modelling)\n",
    "Linear Regression Analysis\n",
    "Taking Both Logarithm (Pressure, Time)\n",
    "Testing Linear Regression Analysis"
   ]
  },
  {
   "cell_type": "code",
   "execution_count": 25,
   "metadata": {},
   "outputs": [
    {
     "data": {
      "text/html": [
       "<div>\n",
       "<style scoped>\n",
       "    .dataframe tbody tr th:only-of-type {\n",
       "        vertical-align: middle;\n",
       "    }\n",
       "\n",
       "    .dataframe tbody tr th {\n",
       "        vertical-align: top;\n",
       "    }\n",
       "\n",
       "    .dataframe thead th {\n",
       "        text-align: right;\n",
       "    }\n",
       "</style>\n",
       "<table border=\"1\" class=\"dataframe\">\n",
       "  <thead>\n",
       "    <tr style=\"text-align: right;\">\n",
       "      <th></th>\n",
       "      <th>Pressure (Pa)</th>\n",
       "      <th>Dzakwan</th>\n",
       "      <th>Yunming</th>\n",
       "      <th>Katelyn</th>\n",
       "      <th>Marissa</th>\n",
       "      <th>Mean</th>\n",
       "      <th>Nat. Log. X</th>\n",
       "      <th>Nat. Log. Y</th>\n",
       "    </tr>\n",
       "  </thead>\n",
       "  <tbody>\n",
       "    <tr>\n",
       "      <th>0</th>\n",
       "      <td>0.0008</td>\n",
       "      <td>47.0</td>\n",
       "      <td>38.0</td>\n",
       "      <td>56.0</td>\n",
       "      <td>83.5</td>\n",
       "      <td>44.9</td>\n",
       "      <td>3.80</td>\n",
       "      <td>-7.13</td>\n",
       "    </tr>\n",
       "    <tr>\n",
       "      <th>1</th>\n",
       "      <td>0.0006</td>\n",
       "      <td>60.0</td>\n",
       "      <td>56.0</td>\n",
       "      <td>84.5</td>\n",
       "      <td>152.5</td>\n",
       "      <td>70.6</td>\n",
       "      <td>4.26</td>\n",
       "      <td>-7.42</td>\n",
       "    </tr>\n",
       "    <tr>\n",
       "      <th>2</th>\n",
       "      <td>0.0004</td>\n",
       "      <td>110.5</td>\n",
       "      <td>136.0</td>\n",
       "      <td>179.5</td>\n",
       "      <td>313.0</td>\n",
       "      <td>147.8</td>\n",
       "      <td>5.00</td>\n",
       "      <td>-7.82</td>\n",
       "    </tr>\n",
       "    <tr>\n",
       "      <th>3</th>\n",
       "      <td>0.0002</td>\n",
       "      <td>215.0</td>\n",
       "      <td>279.5</td>\n",
       "      <td>365.5</td>\n",
       "      <td>627.5</td>\n",
       "      <td>297.5</td>\n",
       "      <td>5.70</td>\n",
       "      <td>-8.52</td>\n",
       "    </tr>\n",
       "    <tr>\n",
       "      <th>4</th>\n",
       "      <td>0.0001</td>\n",
       "      <td>630.5</td>\n",
       "      <td>805.5</td>\n",
       "      <td>1013.5</td>\n",
       "      <td>1669.5</td>\n",
       "      <td>823.8</td>\n",
       "      <td>6.71</td>\n",
       "      <td>-9.21</td>\n",
       "    </tr>\n",
       "  </tbody>\n",
       "</table>\n",
       "</div>"
      ],
      "text/plain": [
       "   Pressure (Pa)  Dzakwan  Yunming  Katelyn  Marissa   Mean  Nat. Log. X  \\\n",
       "0         0.0008     47.0     38.0     56.0     83.5   44.9         3.80   \n",
       "1         0.0006     60.0     56.0     84.5    152.5   70.6         4.26   \n",
       "2         0.0004    110.5    136.0    179.5    313.0  147.8         5.00   \n",
       "3         0.0002    215.0    279.5    365.5    627.5  297.5         5.70   \n",
       "4         0.0001    630.5    805.5   1013.5   1669.5  823.8         6.71   \n",
       "\n",
       "   Nat. Log. Y  \n",
       "0        -7.13  \n",
       "1        -7.42  \n",
       "2        -7.82  \n",
       "3        -8.52  \n",
       "4        -9.21  "
      ]
     },
     "execution_count": 25,
     "metadata": {},
     "output_type": "execute_result"
    }
   ],
   "source": [
    "#Baseline\n",
    "baseline_21, baseline_22, baseline_23, baseline_24 = 40.5, 130.5, 128.5, 164.5\n",
    "data2 = pd.DataFrame()\n",
    "#Dataset Trial\n",
    "data2[\"Pressure (Pa)\"] = [8*10**-4, 6*10**-4, 4*10**-4, 2*10**-4, 1*10**-4]\n",
    "data2[\"Dzakwan\"] = [87.5, 100.5, 151, 255.5, 671] \n",
    "data2[\"Yunming\"] = [168.5, 186.5, 266.5, (397+423)/2, 936]\n",
    "data2[\"Katelyn\"] = [184.5, 213, 308, (477+511)/2, 1142]\n",
    "data2[\"Marissa\"] = [248, 317, (472+483)/2, (761+823)/2, 1834]\n",
    "#Wrangling\n",
    "data2[\"Dzakwan\"] = (data2[\"Dzakwan\"] - baseline_21)\n",
    "data2[\"Yunming\"] = (data2[\"Yunming\"] - baseline_22)\n",
    "data2[\"Katelyn\"] = (data2[\"Katelyn\"] - baseline_23)\n",
    "data2[\"Marissa\"] = (data2[\"Marissa\"] - baseline_24)\n",
    "#Data Analysis (Mean, Error, Standard Deviation, etc)\n",
    "mean = data2.mean(axis=1)\n",
    "data2[\"Mean\"] = mean.round(2)\n",
    "data2[\"Nat. Log. X\"] = np.log(data2[\"Mean\"]).round(2)\n",
    "data2[\"Nat. Log. Y\"] = np.log(data2[\"Pressure (Pa)\"]).round(2)\n",
    "#Print the Result\n",
    "data2"
   ]
  },
  {
   "cell_type": "code",
   "execution_count": 26,
   "metadata": {},
   "outputs": [
    {
     "data": {
      "text/html": [
       "<div>\n",
       "<style scoped>\n",
       "    .dataframe tbody tr th:only-of-type {\n",
       "        vertical-align: middle;\n",
       "    }\n",
       "\n",
       "    .dataframe tbody tr th {\n",
       "        vertical-align: top;\n",
       "    }\n",
       "\n",
       "    .dataframe thead th {\n",
       "        text-align: right;\n",
       "    }\n",
       "</style>\n",
       "<table border=\"1\" class=\"dataframe\">\n",
       "  <thead>\n",
       "    <tr style=\"text-align: right;\">\n",
       "      <th></th>\n",
       "      <th>Pressure (Pa)</th>\n",
       "      <th>Dzakwan</th>\n",
       "      <th>Yunming</th>\n",
       "      <th>Katelyn</th>\n",
       "      <th>Marissa</th>\n",
       "      <th>Mean</th>\n",
       "      <th>Nat. Log. X</th>\n",
       "      <th>Nat. Log. Y</th>\n",
       "    </tr>\n",
       "  </thead>\n",
       "  <tbody>\n",
       "    <tr>\n",
       "      <th>0</th>\n",
       "      <td>0.0008</td>\n",
       "      <td>99.0</td>\n",
       "      <td>27.0</td>\n",
       "      <td>46.5</td>\n",
       "      <td>32.5</td>\n",
       "      <td>41.0</td>\n",
       "      <td>3.71</td>\n",
       "      <td>-7.13</td>\n",
       "    </tr>\n",
       "    <tr>\n",
       "      <th>1</th>\n",
       "      <td>0.0006</td>\n",
       "      <td>117.5</td>\n",
       "      <td>61.0</td>\n",
       "      <td>83.5</td>\n",
       "      <td>68.0</td>\n",
       "      <td>66.0</td>\n",
       "      <td>4.19</td>\n",
       "      <td>-7.42</td>\n",
       "    </tr>\n",
       "    <tr>\n",
       "      <th>2</th>\n",
       "      <td>0.0004</td>\n",
       "      <td>261.5</td>\n",
       "      <td>128.5</td>\n",
       "      <td>152.0</td>\n",
       "      <td>131.0</td>\n",
       "      <td>134.6</td>\n",
       "      <td>4.90</td>\n",
       "      <td>-7.82</td>\n",
       "    </tr>\n",
       "    <tr>\n",
       "      <th>3</th>\n",
       "      <td>0.0002</td>\n",
       "      <td>593.0</td>\n",
       "      <td>251.5</td>\n",
       "      <td>244.5</td>\n",
       "      <td>263.5</td>\n",
       "      <td>270.5</td>\n",
       "      <td>5.60</td>\n",
       "      <td>-8.52</td>\n",
       "    </tr>\n",
       "    <tr>\n",
       "      <th>4</th>\n",
       "      <td>0.0001</td>\n",
       "      <td>1796.5</td>\n",
       "      <td>930.5</td>\n",
       "      <td>851.0</td>\n",
       "      <td>737.5</td>\n",
       "      <td>863.1</td>\n",
       "      <td>6.76</td>\n",
       "      <td>-9.21</td>\n",
       "    </tr>\n",
       "  </tbody>\n",
       "</table>\n",
       "</div>"
      ],
      "text/plain": [
       "   Pressure (Pa)  Dzakwan  Yunming  Katelyn  Marissa   Mean  Nat. Log. X  \\\n",
       "0         0.0008     99.0     27.0     46.5     32.5   41.0         3.71   \n",
       "1         0.0006    117.5     61.0     83.5     68.0   66.0         4.19   \n",
       "2         0.0004    261.5    128.5    152.0    131.0  134.6         4.90   \n",
       "3         0.0002    593.0    251.5    244.5    263.5  270.5         5.60   \n",
       "4         0.0001   1796.5    930.5    851.0    737.5  863.1         6.76   \n",
       "\n",
       "   Nat. Log. Y  \n",
       "0        -7.13  \n",
       "1        -7.42  \n",
       "2        -7.82  \n",
       "3        -8.52  \n",
       "4        -9.21  "
      ]
     },
     "execution_count": 26,
     "metadata": {},
     "output_type": "execute_result"
    }
   ],
   "source": [
    "#Baseline\n",
    "baseline_31, baseline_32, baseline_33, baseline_34 = 42.5, 148.5, 86, 107.5\n",
    "data3 = pd.DataFrame()\n",
    "#Dataset Trial\n",
    "data3[\"Pressure (Pa)\"] = [8*10**-4, 6*10**-4, 4*10**-4, 2*10**-4, 1*10**-4]\n",
    "data3[\"Dzakwan\"] = [141.5, 160, (297+311)/2, (602+669)/2, 1839] \n",
    "data3[\"Yunming\"] = [175.5, 209.5, 277, (356+444)/2, 17*60+59]\n",
    "data3[\"Katelyn\"] = [132.5, 169.5, 238, (317+344)/2, 937]\n",
    "data3[\"Marissa\"] = [140, 175.5, 238.5, (359+383)/2, 845]\n",
    "#Wrangling\n",
    "data3[\"Dzakwan\"] = (data3[\"Dzakwan\"] - baseline_31)\n",
    "data3[\"Yunming\"] = (data3[\"Yunming\"] - baseline_32)\n",
    "data3[\"Katelyn\"] = (data3[\"Katelyn\"] - baseline_33)\n",
    "data3[\"Marissa\"] = (data3[\"Marissa\"] - baseline_34)\n",
    "#Data Analysis (Mean, Error, Standard Deviation, etc)\n",
    "mean = data3.mean(axis=1)\n",
    "data3[\"Mean\"] = mean.round(2)\n",
    "data3[\"Nat. Log. X\"] = np.log(data3[\"Mean\"]).round(2)\n",
    "data3[\"Nat. Log. Y\"] = np.log(data3[\"Pressure (Pa)\"]).round(2)\n",
    "#Print the Result\n",
    "data3"
   ]
  },
  {
   "cell_type": "markdown",
   "metadata": {},
   "source": [
    "List of References (Coding Analysis):¶\n",
    "1. https://datatofish.com/plot-dataframe-pandas/\n",
    "2. https://pandas.pydata.org/pandas-docs/version/0.13.1/visualization.html\n",
    "3. https://pandas.pydata.org/pandas-docs/stable/user_guide/visualization.html\n",
    "4. https://pandas.pydata.org/pandas-docs/stable/reference/frame.html#indexing-iteration\n",
    "5. https://www.geeksforgeeks.org/python-pandas-dataframe-mean/\n",
    "6. http://www.datasciencemadesimple.com/log-natural-logarithmic-value-column-pandas-python-2/\n",
    "\n",
    "List of References (Origin):\n",
    "1. Graphing: Origin 8: How to make a Multi-Y Plot using pre-installed templates, https://www.youtube.com/watch?v=_ZLfvogWX_A\n",
    "2. Curve Fitting: Origin 8: Introduction to Curve Fitting, https://www.youtube.com/watch?v=n3rRRzxF_1A\n",
    "3. Graphing: Origin: Merging and Arranging Graphs Part 1, https://www.youtube.com/watch?v=la9Erd49sjo\n",
    "4. How to Merge Multiple Graphs in Origin Software, https://www.youtube.com/watch?v=JhNAt-ihiLw\n",
    "\n",
    "Personal Improvement:\n",
    "1. Understanding that data wrangling using Python and data plotting in Origin produce inconsistency of the software and not optimize data analysis. Upcoming personal improvement is to integrate the Python code to finalize the coding"
   ]
  },
  {
   "cell_type": "code",
   "execution_count": null,
   "metadata": {},
   "outputs": [],
   "source": []
  }
 ],
 "metadata": {
  "kernelspec": {
   "display_name": "Python 3",
   "language": "python",
   "name": "python3"
  },
  "language_info": {
   "codemirror_mode": {
    "name": "ipython",
    "version": 3
   },
   "file_extension": ".py",
   "mimetype": "text/x-python",
   "name": "python",
   "nbconvert_exporter": "python",
   "pygments_lexer": "ipython3",
   "version": "3.7.3"
  }
 },
 "nbformat": 4,
 "nbformat_minor": 2
}
