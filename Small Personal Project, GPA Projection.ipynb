{
 "cells": [
  {
   "cell_type": "code",
   "execution_count": 1,
   "metadata": {},
   "outputs": [
    {
     "name": "stdout",
     "output_type": "stream",
     "text": [
      "\n",
      "Welcome to the program, this code is to evaluate your GPA progression. Let's evaluate it \n",
      "\n",
      "Insert your past total score : w\n"
     ]
    },
    {
     "ename": "ValueError",
     "evalue": "could not convert string to float: 'w'",
     "output_type": "error",
     "traceback": [
      "\u001b[1;31m---------------------------------------------------------------------------\u001b[0m",
      "\u001b[1;31mValueError\u001b[0m                                Traceback (most recent call last)",
      "\u001b[1;32m<ipython-input-1-0bb51eab4ef2>\u001b[0m in \u001b[0;36m<module>\u001b[1;34m\u001b[0m\n\u001b[0;32m     38\u001b[0m   \u001b[1;31m#Lack point : better rounding\u001b[0m\u001b[1;33m\u001b[0m\u001b[1;33m\u001b[0m\u001b[1;33m\u001b[0m\u001b[0m\n\u001b[0;32m     39\u001b[0m \u001b[1;33m\u001b[0m\u001b[0m\n\u001b[1;32m---> 40\u001b[1;33m \u001b[0mprint\u001b[0m\u001b[1;33m(\u001b[0m\u001b[0mgraph\u001b[0m\u001b[1;33m(\u001b[0m\u001b[1;33m)\u001b[0m\u001b[1;33m)\u001b[0m\u001b[1;33m\u001b[0m\u001b[1;33m\u001b[0m\u001b[0m\n\u001b[0m",
      "\u001b[1;32m<ipython-input-1-0bb51eab4ef2>\u001b[0m in \u001b[0;36mgraph\u001b[1;34m()\u001b[0m\n\u001b[0;32m     24\u001b[0m   \u001b[0mprint\u001b[0m\u001b[1;33m(\u001b[0m\u001b[1;34m\"\"\u001b[0m\u001b[1;33m)\u001b[0m\u001b[1;33m\u001b[0m\u001b[1;33m\u001b[0m\u001b[0m\n\u001b[0;32m     25\u001b[0m   \u001b[0mprint\u001b[0m\u001b[1;33m(\u001b[0m\u001b[1;34m\"Welcome to the program, this code is to evaluate your GPA progression. Let's evaluate it \\n\"\u001b[0m\u001b[1;33m)\u001b[0m\u001b[1;33m\u001b[0m\u001b[1;33m\u001b[0m\u001b[0m\n\u001b[1;32m---> 26\u001b[1;33m   \u001b[0mpast_score\u001b[0m \u001b[1;33m=\u001b[0m \u001b[0mfloat\u001b[0m\u001b[1;33m(\u001b[0m\u001b[0minput\u001b[0m\u001b[1;33m(\u001b[0m\u001b[1;34m\"Insert your past total score : \"\u001b[0m\u001b[1;33m)\u001b[0m\u001b[1;33m)\u001b[0m\u001b[1;33m\u001b[0m\u001b[1;33m\u001b[0m\u001b[0m\n\u001b[0m\u001b[0;32m     27\u001b[0m   \u001b[0mpast_AU\u001b[0m \u001b[1;33m=\u001b[0m \u001b[0mfloat\u001b[0m\u001b[1;33m(\u001b[0m\u001b[0minput\u001b[0m\u001b[1;33m(\u001b[0m\u001b[1;34m\"Insert your total AU taken : \"\u001b[0m\u001b[1;33m)\u001b[0m\u001b[1;33m)\u001b[0m\u001b[1;33m\u001b[0m\u001b[1;33m\u001b[0m\u001b[0m\n\u001b[0;32m     28\u001b[0m   \u001b[0mcurrent_AU\u001b[0m \u001b[1;33m=\u001b[0m \u001b[0mfloat\u001b[0m\u001b[1;33m(\u001b[0m\u001b[0minput\u001b[0m\u001b[1;33m(\u001b[0m\u001b[1;34m\"Insert your current graded AU : \"\u001b[0m\u001b[1;33m)\u001b[0m\u001b[1;33m)\u001b[0m\u001b[1;33m\u001b[0m\u001b[1;33m\u001b[0m\u001b[0m\n",
      "\u001b[1;31mValueError\u001b[0m: could not convert string to float: 'w'"
     ]
    }
   ],
   "source": [
    "#This project tells you about how is your current GPA status and the graph projection to get your expected GPA\n",
    "#The parameter composed of\n",
    "# 1. A : Total Score received\n",
    "# 2. B : Total AU taken\n",
    "# 3. C : Total CGPA (A/B)\n",
    "# 4. E : Current AU taken\n",
    "# 5. F : Current expected GPA\n",
    "\n",
    "#The plotting variable is\n",
    "# X : number of AU taken\n",
    "# Y : CGPA\n",
    "\n",
    "#Formula used\n",
    "# C = A/B, while C' = (A+EF)/(B+E) = F + (A-BF)/(B+E)\n",
    "\n",
    "#The project expectation is to have the user-friendly and graph projection\n",
    "\n",
    "#Brainstorming for plotting graph idea\n",
    "# 1. Make a variable depended of the current_AU, and expected_GPA (E,F)\n",
    "# If the code is graph based, need to make in this format :  def graph(past_score,past_AU,current_AU,expected_GPA):\n",
    "\n",
    "def graph():\n",
    "  #User friendly input \n",
    "  print(\"\")\n",
    "  print(\"Welcome to the program, this code is to evaluate your GPA progression. Let's evaluate it \\n\")\n",
    "  past_score = float(input(\"Insert your past total score : \"))\n",
    "  past_AU = float(input(\"Insert your total AU taken : \"))\n",
    "  current_AU = float(input(\"Insert your current graded AU : \"))\n",
    "  expected_GPA = float(input(\"Insert your expected current GPA : \"))\n",
    "\n",
    "  #Formula\n",
    "  result = expected_GPA + (past_score-past_AU*expected_GPA)/(past_AU+current_AU)\n",
    "   \n",
    "  #Output Result\n",
    "  print(\"\")\n",
    "  return \"Based on your past CGPA, \" + str(past_score/past_AU) + \" , with the number of AU taken \" + str(current_AU) + \" and your expected GPA, \" + str(expected_GPA) + \" the expected CGPA will be \" + str(result)\n",
    "\n",
    "  #Lack point : better rounding\n",
    "\n",
    "print(graph())"
   ]
  },
  {
   "cell_type": "code",
   "execution_count": 2,
   "metadata": {},
   "outputs": [
    {
     "ename": "SyntaxError",
     "evalue": "invalid syntax (<ipython-input-2-1cbbc8048ab5>, line 1)",
     "output_type": "error",
     "traceback": [
      "\u001b[1;36m  File \u001b[1;32m\"<ipython-input-2-1cbbc8048ab5>\"\u001b[1;36m, line \u001b[1;32m1\u001b[0m\n\u001b[1;33m    PA(past_score,past_AU,current_AU,expected_GPA): print(By the mathematical relation, it's shown that the higher expected GPA, will still give you a \", return \"The least expected GPA to \")\u001b[0m\n\u001b[1;37m                                                               ^\u001b[0m\n\u001b[1;31mSyntaxError\u001b[0m\u001b[1;31m:\u001b[0m invalid syntax\n"
     ]
    }
   ],
   "source": [
    "PA(past_score,past_AU,current_AU,expected_GPA): print(By the mathematical relation, it's shown that the higher expected GPA, will still give you a \", return \"The least expected GPA to \")"
   ]
  },
  {
   "cell_type": "code",
   "execution_count": null,
   "metadata": {},
   "outputs": [],
   "source": []
  }
 ],
 "metadata": {
  "kernelspec": {
   "display_name": "Python 3",
   "language": "python",
   "name": "python3"
  },
  "language_info": {
   "codemirror_mode": {
    "name": "ipython",
    "version": 3
   },
   "file_extension": ".py",
   "mimetype": "text/x-python",
   "name": "python",
   "nbconvert_exporter": "python",
   "pygments_lexer": "ipython3",
   "version": "3.7.3"
  }
 },
 "nbformat": 4,
 "nbformat_minor": 2
}
