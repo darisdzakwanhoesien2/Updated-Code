{
 "cells": [
  {
   "cell_type": "code",
   "execution_count": null,
   "metadata": {},
   "outputs": [],
   "source": [
    "import pandas as pd\n",
    "\n",
    "def event_details(total_au,list1):\n",
    "  #User Input\n",
    "  print(\"\")\n",
    "  print(\"Welcome to our function. Please input your function\")\n",
    "  print(\"\")\n",
    "  data_1 = str(input(\"What course do you have : \"))\n",
    "  data_2 = int(input(\"How many AU the module is : \"))\n",
    "\n",
    "  #Function\n",
    "  total_au += data_2 \n",
    "  list1.append([data_1, str(data_2) + \" AU\"])\n",
    "\n",
    "  #Iteration User Input\n",
    "  print(\"Do you still have more courses to add on (Y/N) : . If yes, please answer Y or N\")\n",
    "  data_3 = str(input(\"Y/N : \"))\n",
    "  \n",
    "  #Condition function\n",
    "  if data_3 == \"Y\":\n",
    "    return event_details(total_au, list1)\n",
    "  elif data_3 == \"N\":\n",
    "    print()\n",
    "    print(\"This semester you are taking \" + str(total_au) + \" AU.\")\n",
    "    #Basic Formulation : pd.Dataframe[[list]]\n",
    "    \n",
    "    return list1\n",
    "  else :\n",
    "    print(\"Error message!\")\n",
    "    return \"Sorry you did not choose Y/N\"\n",
    "\n",
    "def table(data):\n",
    "  import pandas as pd\n",
    "  course_sem3 = pd.DataFrame([data])\n",
    "  \n",
    "  return course_sem3\n",
    "\n",
    "print"
   ]
  },
  {
   "cell_type": "code",
   "execution_count": null,
   "metadata": {},
   "outputs": [],
   "source": [
    "import pandas as pd\n",
    "\n",
    "\n",
    "def schedule_data_add_list(list_input,title):\n",
    "  \n",
    "\n",
    "def schedule_data_add(list_input=[],title):\n",
    "  No = int(input(\"No. : \"))\n",
    "  Course_Code = str(input(\"Course Code : \"))\n",
    "  Week = int(input(\"Week number : \"))\n",
    "  Date = str(input(\"Date DD/MM/YY : \"))\n",
    "  Task = str(input(\"Task : \"))\n",
    "\n",
    "  list_input.append([No,Course_Code,Week,Date,Task])\n",
    "  add = str(input(\"Do you have anything else to add?\"))\n",
    "\n",
    "  if add == \"Y\":\n",
    "    return schedule_data_add(list_input,title)\n",
    "  else :\n",
    "    print(\"Please check the list\")\n",
    "    print(list_input)\n",
    "    for i in range(len(list_input)):\n",
    "      database_course = pd.DataFrame({[i]:list_input[i]})\n",
    "      database_course_transpose = pd.DataFrame.transpose(database_course)\n",
    "      return database_course_transpose.to_csv(title)\n",
    "\n",
    "print(schedule_data_add(\"test.csv\"))\n",
    "\n",
    "import pandas_file\n",
    "print(pandas_file)"
   ]
  }
 ],
 "metadata": {
  "kernelspec": {
   "display_name": "Python 3",
   "language": "python",
   "name": "python3"
  },
  "language_info": {
   "codemirror_mode": {
    "name": "ipython",
    "version": 3
   },
   "file_extension": ".py",
   "mimetype": "text/x-python",
   "name": "python",
   "nbconvert_exporter": "python",
   "pygments_lexer": "ipython3",
   "version": "3.7.3"
  }
 },
 "nbformat": 4,
 "nbformat_minor": 2
}
