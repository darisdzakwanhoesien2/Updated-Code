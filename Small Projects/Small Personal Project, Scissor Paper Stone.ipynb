{
 "cells": [
  {
   "cell_type": "code",
   "execution_count": null,
   "metadata": {},
   "outputs": [],
   "source": [
    "import random\n",
    "\n",
    "def project_rock_scissors_paper():\n",
    "  print(\"Welcome to simple games, you can choose to pick \\n 1. Rock \\n 2. Scissor \\n 3. Paper\")\n",
    "  human = int(input(\"What is your option (Rock,Scissor,Paper) : \"))\n",
    "  comp = random.randint(1,3)\n",
    "\n",
    "  if human == 1:\n",
    "    if comp == 1:\n",
    "      return \"Both of you are draw!\"\n",
    "    elif comp == 2:\n",
    "      return \"You are win!\"\n",
    "    else:\n",
    "      return \"You are lose!\"\n",
    "  \n",
    "  elif human == 2:\n",
    "    if comp == 2:\n",
    "      return \"Both of you are draw!\"\n",
    "    elif comp == 3:\n",
    "      return \"You are win!\"\n",
    "    else:\n",
    "      return \"You are lose!\"\n",
    "\n",
    "  elif human == 3:\n",
    "    if comp == 3:\n",
    "      return \"Both of you are draw!\"\n",
    "    elif comp == 1:\n",
    "      return \"You are win!\"\n",
    "    else:\n",
    "      return \"You are lose!\"\n",
    "\n",
    "  else :\n",
    "    print(\"Please key in the correct one\")\n",
    "    return project_rock_scissors_paper()\n",
    "\n",
    "print(project_rock_scissors_paper())"
   ]
  }
 ],
 "metadata": {
  "kernelspec": {
   "display_name": "Python 3",
   "language": "python",
   "name": "python3"
  },
  "language_info": {
   "codemirror_mode": {
    "name": "ipython",
    "version": 3
   },
   "file_extension": ".py",
   "mimetype": "text/x-python",
   "name": "python",
   "nbconvert_exporter": "python",
   "pygments_lexer": "ipython3",
   "version": "3.7.3"
  }
 },
 "nbformat": 4,
 "nbformat_minor": 2
}
