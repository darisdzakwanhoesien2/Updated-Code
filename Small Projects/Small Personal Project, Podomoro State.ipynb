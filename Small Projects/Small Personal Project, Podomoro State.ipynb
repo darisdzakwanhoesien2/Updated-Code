{
 "cells": [
  {
   "cell_type": "code",
   "execution_count": null,
   "metadata": {},
   "outputs": [],
   "source": [
    "Adjust the time format\n",
    "def time_format(time) : \n",
    "  int_time = int(time)\n",
    "  min_time = time - int_time\n",
    "  if min_time >= 0.6:\n",
    "    time += 0.4\n",
    "  else :\n",
    "    time = time\n",
    "  return time\n",
    "\n",
    "#Setting the breaktime and time to continue next state\n",
    "def breaktime_return(time):\n",
    "  time += 0.05\n",
    "  time = time_format(time)\n",
    "  return \"Please come back in 5 minutes, your next state will start at \" + str(time)\n",
    "\n",
    "#Big function of Podomoro State\n",
    "def Podomoro_state(name, current_state, time, state_time):\n",
    "  print(\"Welcome \" + str(name) + \"!\")\n",
    "  print(\"Your current_state is \" + str(current_state))\n",
    "  \n",
    "  time += 0.25\n",
    "  time = time_format(time)\n",
    "  \n",
    "    \n",
    "  print(\"Please notify me at \" + str(time) + \" \" + str(state_time))\n",
    "  print(\"\")\n",
    "  \n",
    "  if current_state > 4:\n",
    "    print(\"Congraturations that you're succeed one cycle of Podomoro State\")\n",
    "    \n",
    "  else : \n",
    "    user = int(input(\"Are you succeed in this state? Yes (1), No (0) : \"))\n",
    "    if user == 1:\n",
    "      current_state += user\n",
    "      if current_state > 4:\n",
    "        print(\"Congraturations, you're succeed fo one cycle of Podomoro State. You just finished your 4th state\")\n",
    "      else : \n",
    "        return \"Congraturations that you're in \" + str(current_state) + \"th Podomoro State\"\n",
    "    else : \n",
    "      current_state += user\n",
    "      print(\"\")\n",
    "      print(\"Sorry you're still in \" + str(current_state) + \"th Podomoro State\")\n",
    "      print(breaktime_return(time) + \" \" + state_time)"
   ]
  }
 ],
 "metadata": {
  "kernelspec": {
   "display_name": "Python 3",
   "language": "python",
   "name": "python3"
  },
  "language_info": {
   "codemirror_mode": {
    "name": "ipython",
    "version": 3
   },
   "file_extension": ".py",
   "mimetype": "text/x-python",
   "name": "python",
   "nbconvert_exporter": "python",
   "pygments_lexer": "ipython3",
   "version": "3.7.3"
  }
 },
 "nbformat": 4,
 "nbformat_minor": 2
}
