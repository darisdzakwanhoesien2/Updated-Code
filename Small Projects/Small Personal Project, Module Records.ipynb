{
 "cells": [
  {
   "cell_type": "code",
   "execution_count": null,
   "metadata": {},
   "outputs": [],
   "source": [
    "databases_au = [\"A+\",5], [\"A\",5], [\"A-\",4.5], [\"B+\",4], [\"B\",3.5], [\"B-\",3],[\"C+\",2.5] ,[\"C\",2],[\"D+\",1.5],[\"D\",1],[\"F\",0]\n",
    "\n",
    "import pandas as pd\n",
    "print(\"List of GPA conversion\")\n",
    "data_au = pd.DataFrame(list(databases_au))\n",
    "print(data_au)\n",
    "print(\"\")\n",
    "#columns_ = {\"Course Name\",\"AU\",\"No.\",\"Semester\",\"Course Code\",\"GPA\"}\n",
    "databases = [1,3,\"BU8201\",\"Business Finance\",\"B-\",3],[2,3,\"BU8101\",\"Accounting - A User Perspective\",\"C\",3]\n",
    "\n",
    "data = pd.DataFrame(list(databases))\n",
    "print(data)\n",
    "data.join(data_au, lsuffix='_caller', rsuffix='_other)\n",
    "print(data)"
   ]
  }
 ],
 "metadata": {
  "kernelspec": {
   "display_name": "Python 3",
   "language": "python",
   "name": "python3"
  },
  "language_info": {
   "codemirror_mode": {
    "name": "ipython",
    "version": 3
   },
   "file_extension": ".py",
   "mimetype": "text/x-python",
   "name": "python",
   "nbconvert_exporter": "python",
   "pygments_lexer": "ipython3",
   "version": "3.7.3"
  }
 },
 "nbformat": 4,
 "nbformat_minor": 2
}
