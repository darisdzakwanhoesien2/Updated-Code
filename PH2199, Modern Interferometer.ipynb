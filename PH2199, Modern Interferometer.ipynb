{
 "cells": [
  {
   "cell_type": "code",
   "execution_count": 1,
   "metadata": {},
   "outputs": [],
   "source": [
    "#IMPORT LIBRARY : NUMPY and MATH\n",
    "import numpy as np\n",
    "import math\n",
    "#DEFINITION OF BASIC MATH OPERATIONS\n",
    "def square_root(value):\n",
    "  return math.sqrt(value)\n",
    "def area(length, width):\n",
    "  return length*width\n",
    "  #TRIGONOMETRY\n",
    "def rad_to_angle(angle):\n",
    "  return math.radians(angle)\n",
    "def cos_angle(angle):\n",
    "  return math.cos(rad_to_angle(angle))\n",
    "def sin_angle(angle):\n",
    "  return math.sin(rad_to_angle(angle))\n",
    "def sin_inverse(value):\n",
    "  return math.asin(value)*180/math.pi\n",
    "def cos_inverse(value):\n",
    "  return math.acos(value)*180/math.pi\n",
    "def sin_inverse(value):\n",
    "  return math.atan(value)*180/math.pi\n",
    "#TOOLS OF PROGRAMMING\n",
    "def list_to_array(list_value):\n",
    "  return np.array(list_value)"
   ]
  },
  {
   "cell_type": "code",
   "execution_count": 2,
   "metadata": {},
   "outputs": [],
   "source": [
    "#FUNCTION OF MODERN INTERFEROMETER\n",
    "def sinus_multiple_value(angle):\n",
    "  new_list = []\n",
    "  for i in range(len(angle)):\n",
    "    new_list.append(sin_angle(angle[i]))\n",
    "  new_list_array = np.array(new_list)\n",
    "  return new_list_array\n",
    "def cosine_multiple_value(angle):\n",
    "  new_list = []\n",
    "  for i in range(len(angle)):\n",
    "    new_list.append(cos_angle(angle[i]))\n",
    "  new_list_array = np.array(new_list)\n",
    "  return new_list_array\n",
    "def material_index(a,b,c):\n",
    "  #### Recall the last notes : n = [ a^2 - 2a(b-c^2) + (b+c^2)^2 ] / 4c^2\n",
    "  n = (a**2 - 2*a*(b-c**2) + (b+c**2)**2)/(4*c**2)\n",
    "  return n"
   ]
  },
  {
   "cell_type": "code",
   "execution_count": 3,
   "metadata": {},
   "outputs": [],
   "source": [
    "#RAW DATA\n",
    "### Value of Glass\n",
    "angle0 = np.array([76,60,44])\n",
    "angle1 = np.array([60,44,28])\n",
    "### Value of Quartz \n",
    "angle2 = np.array([0,344,328])\n",
    "angle3 = np.array([344,328,312])\n",
    "### Value of Quartz Refraction\n",
    "m1 = np.array([3,2,1])\n",
    "m2 = np.array([3,2,1])\n",
    "### CODING PROCESSING : SINUS VALUE\n",
    "sin0 = sinus_multiple_value(angle0)\n",
    "sin1 = sinus_multiple_value(angle1)\n",
    "sin2 = sinus_multiple_value(angle2)\n",
    "sin3 = sinus_multiple_value(angle3)\n",
    "### CODING PROCESSING : SINUS VALUE\n",
    "cos0 = cosine_multiple_value(angle0)\n",
    "cos1 = cosine_multiple_value(angle1)\n",
    "cos2 = cosine_multiple_value(angle2)\n",
    "cos3 = cosine_multiple_value(angle3)\n",
    "### CODING PROCESSING : c VALUE\n",
    "c1 = (1.2*10**(-3))*m1 + cos0 - cos1\n",
    "c2 = (1.2*10**(-3))*m2 + cos2 - cos3\n",
    "### CODING PROCESSING : INDEX FINAL VALUE\n",
    "glass = material_index(sin1**2,sin0**2,c1)\n",
    "quartz = material_index(sin3,sin2,c2)"
   ]
  },
  {
   "cell_type": "code",
   "execution_count": 4,
   "metadata": {},
   "outputs": [],
   "source": [
    "### FINAL REPRESENTATION : FUNCTION\n",
    "def value_report(title,array):\n",
    "  print()\n",
    "  print(title)\n",
    "  print()\n",
    "  mean, std = np.mean(array), np.std(array)\n",
    "  print(\"The value of the experiment is :\")\n",
    "  print(array)\n",
    "  print(\"With the value represent as \" + str(round(mean,3)) + \" and error of \" + str(round(std,3)) + \" with the error percentage of \" + str(round(std*100/mean,3)) + \"%\")\n",
    "  return \"\"\n",
    "def modern_interferometer(distance,fringe):\n",
    "  print(\"The value return is \" + str(2*distance*10**6/fringe) + \" nanometer\")\n",
    "  return 2*distance*10**6/fringe #2*distance*10**6/fringe\n",
    "def error_val(real,exp):\n",
    "  return \"The error value is \" + str((real-exp)*100/real)"
   ]
  },
  {
   "cell_type": "code",
   "execution_count": 5,
   "metadata": {},
   "outputs": [
    {
     "name": "stdout",
     "output_type": "stream",
     "text": [
      "\n",
      "Glass\n",
      "\n",
      "The value of the experiment is :\n",
      "[1.00172837 1.00399596 1.00469994]\n",
      "With the value represent as 1.003 and error of 0.001 with the error percentage of 0.126%\n",
      "\n",
      "Quartz\n",
      "\n",
      "The value of the experiment is :\n",
      "[3.23400795 0.89995351 0.52732127]\n",
      "With the value represent as 1.554 and error of 1.198 with the error percentage of 77.091%\n",
      "\n",
      "\n"
     ]
    }
   ],
   "source": [
    "### FINAL REPRESENTATION : OUTPUT\n",
    "glass_rep = value_report(\"Glass\",np.sqrt(np.abs(glass)))\n",
    "quartz_rep = value_report(\"Quartz\",np.sqrt(np.abs(quartz)))\n",
    "print(glass_rep)\n",
    "print(quartz_rep)"
   ]
  },
  {
   "cell_type": "code",
   "execution_count": 6,
   "metadata": {},
   "outputs": [
    {
     "name": "stdout",
     "output_type": "stream",
     "text": [
      "####### MODERN INTERFEROMETER #########\n",
      "With the air medium\n",
      "\n",
      "There is a DC offset\n",
      "test\n",
      "The value return is 932.5396825396821 nanometer\n",
      "47.367206469608426\n",
      "The value return is 769.503546099291 nanometer\n",
      "21.602962405071285\n",
      "The value return is 659.4202898550723 nanometer\n",
      "4.2067461844298855\n",
      "The value return is 743.4782608695645 nanometer\n",
      "17.490243500247235\n"
     ]
    }
   ],
   "source": [
    "print(\"####### MODERN INTERFEROMETER #########\")\n",
    "print(\"With the air medium\")\n",
    "print(\"\")\n",
    "#print(modern_interferometer(0.9095-0.7920,252))\n",
    "#print(modern_interferometer(1.0180-0.9095,282))\n",
    "#print(modern_interferometer(1.1090-1.0180,276))\n",
    "#print(modern_interferometer(1.1945-1.1090,230))\n",
    "print(\"There is a DC offset\")\n",
    "\n",
    "print(\"test\")\n",
    "print((modern_interferometer(0.9095-0.7920,252)-632.8)*100/632.8)\n",
    "print((modern_interferometer(1.0180-0.9095,282)-632.8)*100/632.8)\n",
    "print((modern_interferometer(1.1090-1.0180,276)-632.8)*100/632.8)\n",
    "print((modern_interferometer(1.1945-1.1090,230)-632.8)*100/632.8)"
   ]
  },
  {
   "cell_type": "code",
   "execution_count": 9,
   "metadata": {},
   "outputs": [],
   "source": [
    "#x = np.array([list])\n",
    "#x = mean, std\n",
    "\n",
    "#print(error_val(632.8,modern_interferometer(0.909-0.792,252)))\n",
    "\n",
    "#print(\"The expected wavelength of He-Ne is 632.8 nm\")\n",
    "#print(\"The error value is \")"
   ]
  },
  {
   "cell_type": "code",
   "execution_count": null,
   "metadata": {},
   "outputs": [],
   "source": []
  }
 ],
 "metadata": {
  "kernelspec": {
   "display_name": "Python 3",
   "language": "python",
   "name": "python3"
  },
  "language_info": {
   "codemirror_mode": {
    "name": "ipython",
    "version": 3
   },
   "file_extension": ".py",
   "mimetype": "text/x-python",
   "name": "python",
   "nbconvert_exporter": "python",
   "pygments_lexer": "ipython3",
   "version": "3.7.3"
  }
 },
 "nbformat": 4,
 "nbformat_minor": 2
}
