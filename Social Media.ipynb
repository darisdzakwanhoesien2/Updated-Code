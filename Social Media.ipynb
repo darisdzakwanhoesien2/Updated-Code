{
 "cells": [
  {
   "cell_type": "code",
   "execution_count": null,
   "metadata": {},
   "outputs": [],
   "source": [
    "#By Post Parameter\n",
    "like, comment, sent, save = \n",
    "profile_visit_specific, replies, website_clicks, email_clicks = \n",
    "follows, reach = \n",
    "impressions_hashtag, impressions_home, impressions_profile, impressions_other = \n",
    "impressions = impressions_hashtag + impressions_home + impressions_profile + impressions_other\n",
    "interactions = profile_visit_specific + replies + website_clicks + email_clicks \n",
    "\n",
    "\n",
    "#By General Instagram\n",
    "\n",
    "#By Post Parameter\n",
    "\n",
    "#average reach rate/post = rate post/n\n",
    "#Instagram growth = final-initial/time\n",
    "initial_followers = \n",
    "final_followers = \n",
    "time = \n",
    "\n",
    "mentions = \n",
    "profile_visit_general =\n",
    "get_direction_click =\n",
    "views = \n",
    "tags = \n",
    "exits =\n",
    "swipes, taps_forward, taps_back =\n",
    "replies = \n",
    "going_live = \n",
    "\n",
    "completion_rate = 100-exit_rate\n",
    "shortcuts = exits + swipes + taps_forward + taps_back\n",
    "exit_rate = exits/impressions\n",
    "view_rate = views/impressions\n",
    "\n",
    "website_click_rate = website_clicks/profile_visit\n",
    "get_direction_click_rate = get_direction_click/profile_views \n",
    "email_click_rate = email_clicks/profile_visit\n",
    "reach_rate = reach/final_followers\n",
    "avg_reach_rate = reach_rate/n\n",
    "\n",
    "\n",
    "def followers_growth(final_followers,initial_followers,time):\n",
    "  final_followers-initial_followers)/time\n",
    "\n",
    "def instagram_advertisement_value()\n",
    "CTR = Clickthrough_rate"
   ]
  },
  {
   "cell_type": "markdown",
   "metadata": {},
   "source": [
    "https://blog.iconosquare.com/instagram-metrics/"
   ]
  },
  {
   "cell_type": "markdown",
   "metadata": {},
   "source": [
    "### Post Insights"
   ]
  },
  {
   "cell_type": "code",
   "execution_count": null,
   "metadata": {},
   "outputs": [],
   "source": [
    "love, comment, send, save = 962, 37, 55, 107"
   ]
  },
  {
   "cell_type": "markdown",
   "metadata": {},
   "source": [
    "-------------------------"
   ]
  },
  {
   "cell_type": "code",
   "execution_count": 15,
   "metadata": {},
   "outputs": [],
   "source": [
    "post_profile_visit, reach = 516, 5531\n",
    "post_website_clicks, post_email = 187, 1\n",
    "post_total_interactions = post_profile_visit + post_website_clicks + post_email"
   ]
  },
  {
   "cell_type": "code",
   "execution_count": 16,
   "metadata": {},
   "outputs": [
    {
     "data": {
      "text/html": [
       "<div>\n",
       "<style scoped>\n",
       "    .dataframe tbody tr th:only-of-type {\n",
       "        vertical-align: middle;\n",
       "    }\n",
       "\n",
       "    .dataframe tbody tr th {\n",
       "        vertical-align: top;\n",
       "    }\n",
       "\n",
       "    .dataframe thead th {\n",
       "        text-align: right;\n",
       "    }\n",
       "</style>\n",
       "<table border=\"1\" class=\"dataframe\">\n",
       "  <thead>\n",
       "    <tr style=\"text-align: right;\">\n",
       "      <th></th>\n",
       "      <th>Email</th>\n",
       "      <th>Profile Visits</th>\n",
       "      <th>Website Clicks</th>\n",
       "    </tr>\n",
       "  </thead>\n",
       "  <tbody>\n",
       "    <tr>\n",
       "      <th>0</th>\n",
       "      <td>0.14</td>\n",
       "      <td>73.3</td>\n",
       "      <td>26.56</td>\n",
       "    </tr>\n",
       "  </tbody>\n",
       "</table>\n",
       "</div>"
      ],
      "text/plain": [
       "   Email  Profile Visits  Website Clicks\n",
       "0   0.14            73.3           26.56"
      ]
     },
     "execution_count": 16,
     "metadata": {},
     "output_type": "execute_result"
    }
   ],
   "source": [
    "import pandas as pd\n",
    "data_post_interaction = pd.DataFrame()\n",
    "data_post_interaction[\"Email\"] = [round(post_email*100/post_total_interactions,2)] \n",
    "data_post_interaction[\"Profile Visits\"] = [round(post_profile_visit*100/post_total_interactions,2)]\n",
    "data_post_interaction[\"Website Clicks\"] = [round(post_website_clicks*100/post_total_interactions,2)]\n",
    "data_post_interaction"
   ]
  },
  {
   "cell_type": "markdown",
   "metadata": {},
   "source": [
    "-------------------------"
   ]
  },
  {
   "cell_type": "code",
   "execution_count": null,
   "metadata": {},
   "outputs": [],
   "source": [
    "follows = 12"
   ]
  },
  {
   "cell_type": "markdown",
   "metadata": {},
   "source": [
    "-------------------------"
   ]
  },
  {
   "cell_type": "code",
   "execution_count": 19,
   "metadata": {},
   "outputs": [],
   "source": [
    "from_home = 4869\n",
    "from_hashtags = 360\n",
    "from_profile = 111\n",
    "from_other = 3309\n",
    "impressions = from_home + from_hashtags + from_profile + from_other"
   ]
  },
  {
   "cell_type": "code",
   "execution_count": 20,
   "metadata": {},
   "outputs": [
    {
     "data": {
      "text/html": [
       "<div>\n",
       "<style scoped>\n",
       "    .dataframe tbody tr th:only-of-type {\n",
       "        vertical-align: middle;\n",
       "    }\n",
       "\n",
       "    .dataframe tbody tr th {\n",
       "        vertical-align: top;\n",
       "    }\n",
       "\n",
       "    .dataframe thead th {\n",
       "        text-align: right;\n",
       "    }\n",
       "</style>\n",
       "<table border=\"1\" class=\"dataframe\">\n",
       "  <thead>\n",
       "    <tr style=\"text-align: right;\">\n",
       "      <th></th>\n",
       "      <th>Home</th>\n",
       "      <th>Hashtags</th>\n",
       "      <th>Profile</th>\n",
       "      <th>Other</th>\n",
       "    </tr>\n",
       "  </thead>\n",
       "  <tbody>\n",
       "    <tr>\n",
       "      <th>0</th>\n",
       "      <td>56.3</td>\n",
       "      <td>4.16</td>\n",
       "      <td>1.28</td>\n",
       "      <td>38.26</td>\n",
       "    </tr>\n",
       "  </tbody>\n",
       "</table>\n",
       "</div>"
      ],
      "text/plain": [
       "   Home  Hashtags  Profile  Other\n",
       "0  56.3      4.16     1.28  38.26"
      ]
     },
     "execution_count": 20,
     "metadata": {},
     "output_type": "execute_result"
    }
   ],
   "source": [
    "import pandas as pd\n",
    "data_post_impression = pd.DataFrame()\n",
    "data_post_impression[\"Home\"] = [round(from_home*100/impressions,2)] \n",
    "data_post_impression[\"Hashtags\"] = [round(from_hashtags*100/impressions,2)]\n",
    "data_post_impression[\"Profile\"] = [round(from_profile*100/impressions,2)]\n",
    "data_post_impression[\"Other\"] = [round(from_other*100/impressions,2)]\n",
    "data_post_impression"
   ]
  },
  {
   "cell_type": "markdown",
   "metadata": {},
   "source": [
    "### Interactions"
   ]
  },
  {
   "cell_type": "code",
   "execution_count": 11,
   "metadata": {},
   "outputs": [],
   "source": [
    "shares = 0\n",
    "replies = 6\n",
    "profile_visit = 65\n",
    "website_clicks = 6\n",
    "total_interaction = shares + replies + profile_visit + website_clicks"
   ]
  },
  {
   "cell_type": "code",
   "execution_count": 12,
   "metadata": {},
   "outputs": [
    {
     "data": {
      "text/html": [
       "<div>\n",
       "<style scoped>\n",
       "    .dataframe tbody tr th:only-of-type {\n",
       "        vertical-align: middle;\n",
       "    }\n",
       "\n",
       "    .dataframe tbody tr th {\n",
       "        vertical-align: top;\n",
       "    }\n",
       "\n",
       "    .dataframe thead th {\n",
       "        text-align: right;\n",
       "    }\n",
       "</style>\n",
       "<table border=\"1\" class=\"dataframe\">\n",
       "  <thead>\n",
       "    <tr style=\"text-align: right;\">\n",
       "      <th></th>\n",
       "      <th>Shares</th>\n",
       "      <th>Replies</th>\n",
       "      <th>Profile Visits</th>\n",
       "      <th>Website Clicks</th>\n",
       "    </tr>\n",
       "  </thead>\n",
       "  <tbody>\n",
       "    <tr>\n",
       "      <th>0</th>\n",
       "      <td>0.0</td>\n",
       "      <td>7.79</td>\n",
       "      <td>84.42</td>\n",
       "      <td>7.79</td>\n",
       "    </tr>\n",
       "  </tbody>\n",
       "</table>\n",
       "</div>"
      ],
      "text/plain": [
       "   Shares  Replies  Profile Visits  Website Clicks\n",
       "0     0.0     7.79           84.42            7.79"
      ]
     },
     "execution_count": 12,
     "metadata": {},
     "output_type": "execute_result"
    }
   ],
   "source": [
    "import pandas as pd\n",
    "data_interaction = pd.DataFrame()\n",
    "data_interaction[\"Shares\"] = [round(shares*100/total_interaction,2)] \n",
    "data_interaction[\"Replies\"] = [round(replies*100/total_interaction,2)] \n",
    "data_interaction[\"Profile Visits\"] = [round(profile_visit*100/total_interaction,2)]\n",
    "data_interaction[\"Website Clicks\"] = [round(website_clicks*100/total_interaction,2)]\n",
    "data_interaction"
   ]
  },
  {
   "cell_type": "markdown",
   "metadata": {},
   "source": [
    "### Discovery"
   ]
  },
  {
   "cell_type": "code",
   "execution_count": 9,
   "metadata": {},
   "outputs": [],
   "source": [
    "back = 215\n",
    "forwards = 2313\n",
    "next_story = 103\n",
    "exited = 1033\n",
    "total_discovery = back + forwards + next_story + exited"
   ]
  },
  {
   "cell_type": "code",
   "execution_count": 10,
   "metadata": {},
   "outputs": [
    {
     "data": {
      "text/html": [
       "<div>\n",
       "<style scoped>\n",
       "    .dataframe tbody tr th:only-of-type {\n",
       "        vertical-align: middle;\n",
       "    }\n",
       "\n",
       "    .dataframe tbody tr th {\n",
       "        vertical-align: top;\n",
       "    }\n",
       "\n",
       "    .dataframe thead th {\n",
       "        text-align: right;\n",
       "    }\n",
       "</style>\n",
       "<table border=\"1\" class=\"dataframe\">\n",
       "  <thead>\n",
       "    <tr style=\"text-align: right;\">\n",
       "      <th></th>\n",
       "      <th>Back</th>\n",
       "      <th>Forwards</th>\n",
       "      <th>Next Story</th>\n",
       "      <th>Exited</th>\n",
       "    </tr>\n",
       "  </thead>\n",
       "  <tbody>\n",
       "    <tr>\n",
       "      <th>0</th>\n",
       "      <td>5.87</td>\n",
       "      <td>63.13</td>\n",
       "      <td>2.81</td>\n",
       "      <td>28.19</td>\n",
       "    </tr>\n",
       "  </tbody>\n",
       "</table>\n",
       "</div>"
      ],
      "text/plain": [
       "   Back  Forwards  Next Story  Exited\n",
       "0  5.87     63.13        2.81   28.19"
      ]
     },
     "execution_count": 10,
     "metadata": {},
     "output_type": "execute_result"
    }
   ],
   "source": [
    "import pandas as pd\n",
    "data_discovery = pd.DataFrame()\n",
    "data_discovery[\"Back\"] = [round(back*100/total_discovery,2)] \n",
    "data_discovery[\"Forwards\"] = [round(forwards*100/total_discovery,2)]\n",
    "data_discovery[\"Next Story\"] = [round(next_story*100/total_discovery,2)]\n",
    "data_discovery[\"Exited\"] = [round(exited*100/total_discovery,2)]\n",
    "data_discovery"
   ]
  },
  {
   "cell_type": "code",
   "execution_count": 40,
   "metadata": {},
   "outputs": [],
   "source": [
    "#28th Feb\n",
    "interactions = [26,6,29,1]\n",
    "discovery = [2075,3484,0,0]\n",
    "navigation = [38,1392,196,538]"
   ]
  },
  {
   "cell_type": "code",
   "execution_count": 51,
   "metadata": {},
   "outputs": [
    {
     "data": {
      "text/html": [
       "<div>\n",
       "<style scoped>\n",
       "    .dataframe tbody tr th:only-of-type {\n",
       "        vertical-align: middle;\n",
       "    }\n",
       "\n",
       "    .dataframe tbody tr th {\n",
       "        vertical-align: top;\n",
       "    }\n",
       "\n",
       "    .dataframe thead th {\n",
       "        text-align: right;\n",
       "    }\n",
       "</style>\n",
       "<table border=\"1\" class=\"dataframe\">\n",
       "  <thead>\n",
       "    <tr style=\"text-align: right;\">\n",
       "      <th></th>\n",
       "      <th>0</th>\n",
       "      <th>1</th>\n",
       "      <th>2</th>\n",
       "      <th>3</th>\n",
       "      <th>4</th>\n",
       "    </tr>\n",
       "  </thead>\n",
       "  <tbody>\n",
       "    <tr>\n",
       "      <th>Interactions</th>\n",
       "      <td>26</td>\n",
       "      <td>6</td>\n",
       "      <td>29</td>\n",
       "      <td>1</td>\n",
       "      <td>62</td>\n",
       "    </tr>\n",
       "    <tr>\n",
       "      <th>Discovery</th>\n",
       "      <td>2075</td>\n",
       "      <td>3484</td>\n",
       "      <td>0</td>\n",
       "      <td>0</td>\n",
       "      <td>5559</td>\n",
       "    </tr>\n",
       "    <tr>\n",
       "      <th>Navigation</th>\n",
       "      <td>38</td>\n",
       "      <td>1392</td>\n",
       "      <td>196</td>\n",
       "      <td>538</td>\n",
       "      <td>2164</td>\n",
       "    </tr>\n",
       "  </tbody>\n",
       "</table>\n",
       "</div>"
      ],
      "text/plain": [
       "                 0     1    2    3     4\n",
       "Interactions    26     6   29    1    62\n",
       "Discovery     2075  3484    0    0  5559\n",
       "Navigation      38  1392  196  538  2164"
      ]
     },
     "execution_count": 51,
     "metadata": {},
     "output_type": "execute_result"
    }
   ],
   "source": [
    "data_done = pd.DataFrame()\n",
    "data_done[\"Interactions\"] = interactions\n",
    "data_done[\"Discovery\"] = discovery\n",
    "data_done[\"Navigation\"] = navigation\n",
    "data_done_2 = data_done.transpose()\n",
    "data_done_2['4'] = data_done_2[0] + data_done_2[1] + data_done_2[2] + data_done_2[3]\n",
    "data_done_2"
   ]
  },
  {
   "cell_type": "code",
   "execution_count": null,
   "metadata": {},
   "outputs": [],
   "source": []
  },
  {
   "cell_type": "code",
   "execution_count": 27,
   "metadata": {},
   "outputs": [
    {
     "data": {
      "text/plain": [
       "62"
      ]
     },
     "execution_count": 27,
     "metadata": {},
     "output_type": "execute_result"
    }
   ],
   "source": [
    "test = [1,2,3]\n"
   ]
  },
  {
   "cell_type": "markdown",
   "metadata": {},
   "source": [
    "### Social Metrics"
   ]
  },
  {
   "cell_type": "code",
   "execution_count": null,
   "metadata": {},
   "outputs": [],
   "source": [
    "reach = # actual number of people who have seen your post\n",
    "followers = \n",
    "reach_rate = reach/followers\n",
    "\n",
    "impression # post/Stories/profile \n"
   ]
  },
  {
   "cell_type": "code",
   "execution_count": null,
   "metadata": {},
   "outputs": [],
   "source": [
    "def engagement_rate_concept():\n",
    "    engagement_rate_likes = likes/final_followers\n",
    "    engagement_rate_comment = comment/final_followers\n",
    "    engagement_rate_save = save/final_followers\n",
    "    engagement_rate_total = engagement_rate_likes + engagement_rate_comment + engagement_rate_save\n",
    "\n",
    "def engagement_reach_concept():\n",
    "    engagement_reach_likes = likes/reach\n",
    "    engagement_reach_comment = comment/reach\n",
    "    engagement_reach_save = save/reach\n",
    "    engagement_reach_total = engagement_reach_likes + engagement_reach_comment + engagement_reach_save\n",
    "\n",
    "email_click\n",
    "email_click_rate = email_click/profile_views\n",
    "\n",
    "get_direction_click\n",
    "get_direction_click_rate = get_direction_click/profile_views\n",
    "\n",
    "website_click\n",
    "website_click_rate = website_click/profile_views\n",
    "\n",
    "view = \n",
    "view_rate = \n",
    "\n",
    "exit \n",
    "exit_rate = exit/impressions"
   ]
  },
  {
   "cell_type": "code",
   "execution_count": null,
   "metadata": {},
   "outputs": [],
   "source": []
  },
  {
   "cell_type": "code",
   "execution_count": null,
   "metadata": {},
   "outputs": [],
   "source": []
  },
  {
   "cell_type": "code",
   "execution_count": null,
   "metadata": {},
   "outputs": [],
   "source": []
  }
 ],
 "metadata": {
  "kernelspec": {
   "display_name": "Python 3",
   "language": "python",
   "name": "python3"
  },
  "language_info": {
   "codemirror_mode": {
    "name": "ipython",
    "version": 3
   },
   "file_extension": ".py",
   "mimetype": "text/x-python",
   "name": "python",
   "nbconvert_exporter": "python",
   "pygments_lexer": "ipython3",
   "version": "3.7.3"
  }
 },
 "nbformat": 4,
 "nbformat_minor": 2
}
