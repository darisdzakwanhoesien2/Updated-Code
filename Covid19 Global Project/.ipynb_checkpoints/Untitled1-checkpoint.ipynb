{
 "cells": [
  {
   "cell_type": "markdown",
   "metadata": {},
   "source": [
    "Constrain the optimization to the region of 0 <= a <= 3, 0 <= b <= 1 and 0 <= c <= 0.5:"
   ]
  },
  {
   "cell_type": "code",
   "execution_count": 97,
   "metadata": {},
   "outputs": [
    {
     "data": {
      "image/png": "[encoded data removed]",
      "text/plain": [
       "<Figure size 432x288 with 1 Axes>"
      ]
     },
     "metadata": {
      "needs_background": "light"
     },
     "output_type": "display_data"
    }
   ],
   "source": [
    "#Introduction to Curve Fitting\n",
    "\n",
    "import numpy as np\n",
    "import matplotlib.pyplot as plt\n",
    "from scipy.optimize import curve_fit\n",
    "\n",
    "# customizable function (exponential decay)\n",
    "def func(x, a, b, c): \n",
    "    return a * np.exp(-b * x) + c\n",
    "\n",
    "xdata = np.linspace(0, 4, 50)\n",
    "\n",
    "y = func(xdata, 2.5, 1.3, 0.5)\n",
    "np.random.seed(1729)\n",
    "y_noise = 0.2 * np.random.normal(size=xdata.size)\n",
    "ydata = y + y_noise\n",
    "\n",
    "plt.plot(xdata, ydata, 'b-', label='data')\n",
    "popt, pcov = curve_fit(func, xdata, ydata)\n",
    "plt.plot(xdata, func(xdata, *popt), 'r-', label='fit: a=%5.3f, b=%5.3f, c=%5.3f' % tuple(popt))\n",
    "popt2, pcov = curve_fit(func, xdata, ydata, bounds=(0, [3., 1., 0.5]))\n",
    "plt.plot(xdata, func(xdata, *popt2), 'g--', label='fit: a=%5.3f, b=%5.3f, c=%5.3f' % tuple(popt2))\n",
    "\n",
    "plt.xlabel('x')\n",
    "plt.ylabel('y')\n",
    "plt.legend()\n",
    "plt.show()"
   ]
  },
  {
   "cell_type": "code",
   "execution_count": 94,
   "metadata": {},
   "outputs": [
    {
     "data": {
      "text/html": [
       "<div>\n",
       "<style scoped>\n",
       "    .dataframe tbody tr th:only-of-type {\n",
       "        vertical-align: middle;\n",
       "    }\n",
       "\n",
       "    .dataframe tbody tr th {\n",
       "        vertical-align: top;\n",
       "    }\n",
       "\n",
       "    .dataframe thead th {\n",
       "        text-align: right;\n",
       "    }\n",
       "</style>\n",
       "<table border=\"1\" class=\"dataframe\">\n",
       "  <thead>\n",
       "    <tr style=\"text-align: right;\">\n",
       "      <th></th>\n",
       "      <th>Unnamed: 0</th>\n",
       "      <th>Id</th>\n",
       "      <th>Province_State</th>\n",
       "      <th>Date</th>\n",
       "      <th>ConfirmedCases</th>\n",
       "      <th>Fatalities</th>\n",
       "    </tr>\n",
       "  </thead>\n",
       "  <tbody>\n",
       "    <tr>\n",
       "      <th>0</th>\n",
       "      <td>4158</td>\n",
       "      <td>5779</td>\n",
       "      <td>Anhui</td>\n",
       "      <td>2020-01-22</td>\n",
       "      <td>1.0</td>\n",
       "      <td>0.0</td>\n",
       "    </tr>\n",
       "    <tr>\n",
       "      <th>1</th>\n",
       "      <td>4159</td>\n",
       "      <td>5780</td>\n",
       "      <td>Anhui</td>\n",
       "      <td>2020-01-23</td>\n",
       "      <td>9.0</td>\n",
       "      <td>0.0</td>\n",
       "    </tr>\n",
       "    <tr>\n",
       "      <th>2</th>\n",
       "      <td>4160</td>\n",
       "      <td>5781</td>\n",
       "      <td>Anhui</td>\n",
       "      <td>2020-01-24</td>\n",
       "      <td>15.0</td>\n",
       "      <td>0.0</td>\n",
       "    </tr>\n",
       "    <tr>\n",
       "      <th>3</th>\n",
       "      <td>4161</td>\n",
       "      <td>5782</td>\n",
       "      <td>Anhui</td>\n",
       "      <td>2020-01-25</td>\n",
       "      <td>39.0</td>\n",
       "      <td>0.0</td>\n",
       "    </tr>\n",
       "    <tr>\n",
       "      <th>4</th>\n",
       "      <td>4162</td>\n",
       "      <td>5783</td>\n",
       "      <td>Anhui</td>\n",
       "      <td>2020-01-26</td>\n",
       "      <td>60.0</td>\n",
       "      <td>0.0</td>\n",
       "    </tr>\n",
       "    <tr>\n",
       "      <th>...</th>\n",
       "      <td>...</td>\n",
       "      <td>...</td>\n",
       "      <td>...</td>\n",
       "      <td>...</td>\n",
       "      <td>...</td>\n",
       "      <td>...</td>\n",
       "    </tr>\n",
       "    <tr>\n",
       "      <th>72</th>\n",
       "      <td>4230</td>\n",
       "      <td>5851</td>\n",
       "      <td>Anhui</td>\n",
       "      <td>2020-04-03</td>\n",
       "      <td>990.0</td>\n",
       "      <td>6.0</td>\n",
       "    </tr>\n",
       "    <tr>\n",
       "      <th>73</th>\n",
       "      <td>4231</td>\n",
       "      <td>5852</td>\n",
       "      <td>Anhui</td>\n",
       "      <td>2020-04-04</td>\n",
       "      <td>990.0</td>\n",
       "      <td>6.0</td>\n",
       "    </tr>\n",
       "    <tr>\n",
       "      <th>74</th>\n",
       "      <td>4232</td>\n",
       "      <td>5853</td>\n",
       "      <td>Anhui</td>\n",
       "      <td>2020-04-05</td>\n",
       "      <td>990.0</td>\n",
       "      <td>6.0</td>\n",
       "    </tr>\n",
       "    <tr>\n",
       "      <th>75</th>\n",
       "      <td>4233</td>\n",
       "      <td>5854</td>\n",
       "      <td>Anhui</td>\n",
       "      <td>2020-04-06</td>\n",
       "      <td>990.0</td>\n",
       "      <td>6.0</td>\n",
       "    </tr>\n",
       "    <tr>\n",
       "      <th>76</th>\n",
       "      <td>4234</td>\n",
       "      <td>5855</td>\n",
       "      <td>Anhui</td>\n",
       "      <td>2020-04-07</td>\n",
       "      <td>990.0</td>\n",
       "      <td>6.0</td>\n",
       "    </tr>\n",
       "  </tbody>\n",
       "</table>\n",
       "<p>77 rows × 6 columns</p>\n",
       "</div>"
      ],
      "text/plain": [
       "    Unnamed: 0    Id Province_State        Date  ConfirmedCases  Fatalities\n",
       "0         4158  5779          Anhui  2020-01-22             1.0         0.0\n",
       "1         4159  5780          Anhui  2020-01-23             9.0         0.0\n",
       "2         4160  5781          Anhui  2020-01-24            15.0         0.0\n",
       "3         4161  5782          Anhui  2020-01-25            39.0         0.0\n",
       "4         4162  5783          Anhui  2020-01-26            60.0         0.0\n",
       "..         ...   ...            ...         ...             ...         ...\n",
       "72        4230  5851          Anhui  2020-04-03           990.0         6.0\n",
       "73        4231  5852          Anhui  2020-04-04           990.0         6.0\n",
       "74        4232  5853          Anhui  2020-04-05           990.0         6.0\n",
       "75        4233  5854          Anhui  2020-04-06           990.0         6.0\n",
       "76        4234  5855          Anhui  2020-04-07           990.0         6.0\n",
       "\n",
       "[77 rows x 6 columns]"
      ]
     },
     "execution_count": 94,
     "metadata": {},
     "output_type": "execute_result"
    }
   ],
   "source": [
    "import pandas as pd\n",
    "df = pd.read_csv('test_data.csv')\n",
    "df_province = df.groupby('Province_State')\n",
    "data = df_province.get_group('Anhui')\n",
    "data"
   ]
  },
  {
   "cell_type": "code",
   "execution_count": 36,
   "metadata": {},
   "outputs": [
    {
     "data": {
      "image/png": "[encoded data removed]",
      "text/plain": [
       "<Figure size 432x288 with 1 Axes>"
      ]
     },
     "metadata": {
      "needs_background": "light"
     },
     "output_type": "display_data"
    }
   ],
   "source": [
    "counter = 20\n",
    "\n",
    "data_start_pandemic = data[data['ConfirmedCases']>0]\n",
    "\n",
    "plt.plot_date(data_start_pandemic['Date'][0:counter],data_start_pandemic['ConfirmedCases'][0:counter])\n",
    "plt.xlabel('Day')\n",
    "plt.xticks(data_start_pandemic['Date'][0:counter], rotation='vertical')\n",
    "plt.ylabel('Cases')\n",
    "plt.title('Anhui Cases')\n",
    "plt.show()"
   ]
  },
  {
   "cell_type": "code",
   "execution_count": 46,
   "metadata": {},
   "outputs": [
    {
     "data": {
      "image/png": "[encoded data removed]",
      "text/plain": [
       "<Figure size 432x288 with 1 Axes>"
      ]
     },
     "metadata": {
      "needs_background": "light"
     },
     "output_type": "display_data"
    }
   ],
   "source": [
    "def exp_func(x, a, b, c):\n",
    "    return a * np.exp(b * x) + c\n",
    "\n",
    "xdata = np.linspace(1, counter, counter)\n",
    "ydata = data_start_pandemic['ConfirmedCases'][0:counter]\n",
    "\n",
    "plt.plot(xdata, ydata, 'b-', label='data')\n",
    "popt_, pcov_ = curve_fit(exp_func, xdata, ydata)\n",
    "plt.plot(xdata, exp_func(xdata, *popt_), 'r-', label='fit: a=%5.3f, b=%5.3f, c=%5.3f' % tuple(popt))\n",
    "\n",
    "plt.legend()\n",
    "plt.show()"
   ]
  },
  {
   "cell_type": "code",
   "execution_count": 47,
   "metadata": {},
   "outputs": [
    {
     "data": {
      "text/plain": [
       "array([6.88444044e+01, 7.78866613e-03, 8.11136566e+01])"
      ]
     },
     "execution_count": 47,
     "metadata": {},
     "output_type": "execute_result"
    }
   ],
   "source": [
    "pcov_ #covariance_matrix\n",
    "perr = np.sqrt(np.diag(pcov_)) #standard_deviation\n",
    "perr/popt_ #CV "
   ]
  },
  {
   "cell_type": "code",
   "execution_count": 88,
   "metadata": {},
   "outputs": [
    {
     "data": {
      "text/plain": [
       "array([ 1.        ,  1.47368421,  1.94736842,  2.42105263,  2.89473684,\n",
       "        3.36842105,  3.84210526,  4.31578947,  4.78947368,  5.26315789,\n",
       "        5.73684211,  6.21052632,  6.68421053,  7.15789474,  7.63157895,\n",
       "        8.10526316,  8.57894737,  9.05263158,  9.52631579, 10.        ])"
      ]
     },
     "execution_count": 88,
     "metadata": {},
     "output_type": "execute_result"
    }
   ],
   "source": [
    "# np.linspace(1,counter/2,counter) : start,end,length"
   ]
  },
  {
   "cell_type": "code",
   "execution_count": 61,
   "metadata": {},
   "outputs": [
    {
     "data": {
      "text/plain": [
       "0.12670919735833383"
      ]
     },
     "execution_count": 61,
     "metadata": {},
     "output_type": "execute_result"
    }
   ],
   "source": [
    "start = 2\n",
    "\n",
    "from sklearn.metrics import mean_squared_log_error\n",
    "np.sqrt(mean_squared_log_error(ydata[start:], exp_func(xdata, *popt_)[start:]))"
   ]
  },
  {
   "cell_type": "code",
   "execution_count": 55,
   "metadata": {},
   "outputs": [
    {
     "data": {
      "text/plain": [
       "array([ 12.69685423,  40.5596012 ,  70.37005789, 102.26437646,\n",
       "       136.38822662, 172.89746092, 211.9588266 , 253.75072712,\n",
       "       298.46403705, 346.30297378, 397.48603025, 452.24697288,\n",
       "       510.83590923, 573.52043032, 640.58683274, 712.34142634,\n",
       "       789.1119331 , 871.24898405])"
      ]
     },
     "execution_count": 55,
     "metadata": {},
     "output_type": "execute_result"
    }
   ],
   "source": [
    "# RMSLE\n",
    "exp_func(xdata, *popt_)[2:]\n",
    "ydata[2:]\n",
    "\n",
    "ydata[2:]+1\n",
    "exp_func(xdata, *popt_)[1:]+1\n",
    "\n",
    "np.log(exp_func(xdata, *popt_)[1:]+1)\n",
    "np.log(ydata[2:]+1)\n",
    "\n",
    "start = 2\n",
    "test_log_val = (np.log(ydata[start:]+1)-np.log(exp_func(xdata, *popt_)[start:]+1))**2\n",
    "test_log_val.sum()/len(test_log_val)\n",
    "\n",
    "np.sqrt(test_log_val.sum()/len(test_log_val)) #RMSLE"
   ]
  }
 ],
 "metadata": {
  "kernelspec": {
   "display_name": "Python 3",
   "language": "python",
   "name": "python3"
  },
  "language_info": {
   "codemirror_mode": {
    "name": "ipython",
    "version": 3
   },
   "file_extension": ".py",
   "mimetype": "text/x-python",
   "name": "python",
   "nbconvert_exporter": "python",
   "pygments_lexer": "ipython3",
   "version": "3.7.3"
  }
 },
 "nbformat": 4,
 "nbformat_minor": 2
}
