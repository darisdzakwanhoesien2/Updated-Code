{
 "cells": [
  {
   "cell_type": "markdown",
   "metadata": {},
   "source": [
    "Welcome to Daris Dzakwan Hoesien, Code Gallery\n",
    "I'm currently a teaching assistant in NTU for 1st Year Physics on Semester I 2019. I would like to show to you the basic usage of Pandas in Python that's more convenient than Excel\n",
    "\n",
    "Here is the sample of 1st Experiment, Motion in Viscous Medium. Basically, the aim is to proof the Stokes' Law of the experiment. Student are required to drop a ball into medium, and measure the Viscousity of the Medium\n",
    "\n",
    "There are basic steps to do the Python\n",
    "\n",
    "Import needed library (Math and Pandas)\n",
    "Make your DataFrame (it's like a Excel)\n",
    "You need to key in the value, remember that it's making a column, and the transpose is use to invert column to row\n",
    "You can do the calculations by the formula"
   ]
  },
  {
   "cell_type": "code",
   "execution_count": 3,
   "metadata": {},
   "outputs": [],
   "source": [
    "import pandas as pd\n",
    "import math\n",
    "\n",
    "data = pd.DataFrame()\n",
    "data[\"Small\"] = [0.686,2.294,10.36]\n",
    "data[\"Medium\"] = [1.808,3.152,18.5]\n",
    "data['Large'] = [9.484,5.5,36.2]\n",
    "data_output = data.transpose()\n",
    "data_output.columns = ['Mass','Radius','Terminal velocity']"
   ]
  },
  {
   "cell_type": "markdown",
   "metadata": {},
   "source": [
    "\n",
    "The most convenient step in Python is when you need to key in the formula, you just call the function and it's all calculating automatically"
   ]
  },
  {
   "cell_type": "code",
   "execution_count": 4,
   "metadata": {},
   "outputs": [
    {
     "data": {
      "text/html": [
       "<div>\n",
       "<style scoped>\n",
       "    .dataframe tbody tr th:only-of-type {\n",
       "        vertical-align: middle;\n",
       "    }\n",
       "\n",
       "    .dataframe tbody tr th {\n",
       "        vertical-align: top;\n",
       "    }\n",
       "\n",
       "    .dataframe thead th {\n",
       "        text-align: right;\n",
       "    }\n",
       "</style>\n",
       "<table border=\"1\" class=\"dataframe\">\n",
       "  <thead>\n",
       "    <tr style=\"text-align: right;\">\n",
       "      <th></th>\n",
       "      <th>Mass</th>\n",
       "      <th>Radius</th>\n",
       "      <th>Terminal velocity</th>\n",
       "      <th>Viscocity</th>\n",
       "    </tr>\n",
       "  </thead>\n",
       "  <tbody>\n",
       "    <tr>\n",
       "      <th>Small</th>\n",
       "      <td>0.686</td>\n",
       "      <td>2.294</td>\n",
       "      <td>10.36</td>\n",
       "      <td>1.400054</td>\n",
       "    </tr>\n",
       "    <tr>\n",
       "      <th>Medium</th>\n",
       "      <td>1.808</td>\n",
       "      <td>3.152</td>\n",
       "      <td>18.50</td>\n",
       "      <td>1.505613</td>\n",
       "    </tr>\n",
       "    <tr>\n",
       "      <th>Large</th>\n",
       "      <td>9.484</td>\n",
       "      <td>5.500</td>\n",
       "      <td>36.20</td>\n",
       "      <td>2.310964</td>\n",
       "    </tr>\n",
       "  </tbody>\n",
       "</table>\n",
       "</div>"
      ],
      "text/plain": [
       "         Mass  Radius  Terminal velocity  Viscocity\n",
       "Small   0.686   2.294              10.36   1.400054\n",
       "Medium  1.808   3.152              18.50   1.505613\n",
       "Large   9.484   5.500              36.20   2.310964"
      ]
     },
     "execution_count": 4,
     "metadata": {},
     "output_type": "execute_result"
    }
   ],
   "source": [
    "#Formula, Viscocity: (mg-B/6mvr), where B = rho*pi*r**3\n",
    "data_output[\"Viscocity\"] = (data_output[\"Mass\"]*9.81*10**-4-math.pi*1207*(data_output[\"Radius\"])**3*10**-9)/(6*math.pi*data_output[\"Radius\"]*data_output[\"Terminal velocity\"]*10**-6)\n",
    "data_output"
   ]
  },
  {
   "cell_type": "markdown",
   "metadata": {},
   "source": [
    "\n",
    "The operation like Mean/Standard Deviation is helpful as a tool for analysis. You just need to call the library and all is set for you"
   ]
  },
  {
   "cell_type": "code",
   "execution_count": 5,
   "metadata": {},
   "outputs": [
    {
     "data": {
      "text/plain": [
       "1.7388773561772144"
      ]
     },
     "execution_count": 5,
     "metadata": {},
     "output_type": "execute_result"
    }
   ],
   "source": [
    "data_output[\"Viscocity\"].mean()"
   ]
  },
  {
   "cell_type": "markdown",
   "metadata": {},
   "source": [
    "\n",
    "To conclude, the data analysis is more cleaner and not tedious using Python. Hope it helps you in the future!"
   ]
  },
  {
   "cell_type": "code",
   "execution_count": null,
   "metadata": {},
   "outputs": [],
   "source": []
  }
 ],
 "metadata": {
  "kernelspec": {
   "display_name": "Python 3",
   "language": "python",
   "name": "python3"
  },
  "language_info": {
   "codemirror_mode": {
    "name": "ipython",
    "version": 3
   },
   "file_extension": ".py",
   "mimetype": "text/x-python",
   "name": "python",
   "nbconvert_exporter": "python",
   "pygments_lexer": "ipython3",
   "version": "3.7.3"
  }
 },
 "nbformat": 4,
 "nbformat_minor": 2
}
